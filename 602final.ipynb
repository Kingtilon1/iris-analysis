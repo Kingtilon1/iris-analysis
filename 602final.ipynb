{
 "cells": [
  {
   "cell_type": "markdown",
   "metadata": {},
   "source": [
    "## How do monthly salaries vary across geographical regions?"
   ]
  },
  {
   "cell_type": "markdown",
   "metadata": {},
   "source": [
    "### View the dataframes dataframe information"
   ]
  },
  {
   "cell_type": "code",
   "execution_count": 55,
   "metadata": {},
   "outputs": [],
   "source": [
    "import pandas as pd \n",
    "import plotly.express as px\n",
    "import numpy as np"
   ]
  },
  {
   "cell_type": "code",
   "execution_count": 42,
   "metadata": {},
   "outputs": [
    {
     "name": "stdout",
     "output_type": "stream",
     "text": [
      "<class 'pandas.core.frame.DataFrame'>\n",
      "RangeIndex: 221 entries, 0 to 220\n",
      "Data columns (total 7 columns):\n",
      " #   Column          Non-Null Count  Dtype  \n",
      "---  ------          --------------  -----  \n",
      " 0   country_name    221 non-null    object \n",
      " 1   continent_name  221 non-null    object \n",
      " 2   wage_span       221 non-null    object \n",
      " 3   median_salary   221 non-null    float64\n",
      " 4   average_salary  221 non-null    float64\n",
      " 5   lowest_salary   221 non-null    float64\n",
      " 6   highest_salary  221 non-null    float64\n",
      "dtypes: float64(4), object(3)\n",
      "memory usage: 12.2+ KB\n",
      "None\n"
     ]
    }
   ],
   "source": [
    "world_salary = pd.read_csv(\"https://raw.githubusercontent.com/Kingtilon1/DATA-602/main/salary_data.csv\")\n",
    "print(world_salary.info())"
   ]
  },
  {
   "cell_type": "markdown",
   "metadata": {},
   "source": [
    "### View world_salary statistics"
   ]
  },
  {
   "cell_type": "code",
   "execution_count": 53,
   "metadata": {},
   "outputs": [
    {
     "name": "stdout",
     "output_type": "stream",
     "text": [
      "       median_salary  average_salary  lowest_salary  highest_salary\n",
      "count     221.000000      221.000000     221.000000      221.000000\n",
      "mean     1762.631906     1982.339812     502.783204     8802.165619\n",
      "std      1634.708716     1835.429193     470.073328     8140.210641\n",
      "min         0.261335        0.285524       0.072092        1.271103\n",
      "25%       567.210000      651.000000     163.930000     2900.480000\n",
      "50%      1227.460000     1344.230000     339.450000     5974.360000\n",
      "75%      2389.010000     2740.000000     690.000000    12050.740000\n",
      "max      9836.070000    11292.900000    2850.270000    50363.930000\n"
     ]
    }
   ],
   "source": [
    "print(world_salary.describe())"
   ]
  },
  {
   "cell_type": "markdown",
   "metadata": {},
   "source": [
    "#### Central Tendency:\n",
    "\n",
    "Median and average salaries provide central measures of income across countries.\n",
    "median_salary ($1,762.63) and average_salary ($1,982.34) indicate the typical salary levels.\n",
    "\n",
    "#### Variability:\n",
    "\n",
    "Standard deviations are relatively high, suggesting considerable variability in salary distribution among countries.\n",
    "\n",
    "#### Range:\n",
    "\n",
    "Minimum and maximum values reflect the wide range of salaries observed globally.\n",
    "highest_salary ($8,802.17) demonstrates the upper limit, while lowest_salary ($502.78) represents the lower limit.\n",
    "\n",
    "#### Distribution Percentiles:\n",
    "\n",
    "Quartiles (25%, 50%, 75%) offer insights into the distribution's shape.\n",
    "For instance, 75% of countries have median_salary below $2,389.01.\n",
    "\n",
    "#### Global Salary Trends:\n",
    "\n",
    "Trends in median and average salaries can be observed across percentiles.\n",
    "Countries at higher percentiles (e.g., 75%) exhibit higher salary levels.\n",
    "\n",
    "#### Impact of Outliers:\n",
    "\n",
    "The presence of outliers, indicated by large standard deviations, may skew salary distribution."
   ]
  },
  {
   "cell_type": "markdown",
   "metadata": {},
   "source": [
    "### Check for any missing values"
   ]
  },
  {
   "cell_type": "code",
   "execution_count": 44,
   "metadata": {},
   "outputs": [
    {
     "name": "stdout",
     "output_type": "stream",
     "text": [
      "country_name      0\n",
      "continent_name    0\n",
      "wage_span         0\n",
      "median_salary     0\n",
      "average_salary    0\n",
      "lowest_salary     0\n",
      "highest_salary    0\n",
      "dtype: int64\n"
     ]
    }
   ],
   "source": [
    "missing_values = world_salary.isnull().sum()\n",
    "print(missing_values)"
   ]
  },
  {
   "cell_type": "markdown",
   "metadata": {},
   "source": [
    "### There are no missing values within the data frame"
   ]
  },
  {
   "cell_type": "markdown",
   "metadata": {},
   "source": [
    "### Rename the column continent_name to geographical region to better encapsulate the data"
   ]
  },
  {
   "cell_type": "code",
   "execution_count": 45,
   "metadata": {},
   "outputs": [],
   "source": [
    "world_salary.rename(columns={'continent_name': 'geographical_region'}, inplace=True)"
   ]
  },
  {
   "cell_type": "markdown",
   "metadata": {},
   "source": [
    "### View the distribution of average salaries"
   ]
  },
  {
   "cell_type": "code",
   "execution_count": 46,
   "metadata": {},
   "outputs": [
    {
     "data": {
      "application/vnd.plotly.v1+json": {
       "config": {
        "plotlyServerURL": "https://plot.ly"
       },
       "data": [
        {
         "alignmentgroup": "True",
         "hovertemplate": "geographical_region=%{x}<br>average_salary=%{y}<extra></extra>",
         "legendgroup": "",
         "marker": {
          "color": "#636efa"
         },
         "name": "",
         "notched": false,
         "offsetgroup": "",
         "orientation": "v",
         "showlegend": false,
         "type": "box",
         "x": [
          "Asia",
          "Europe",
          "Europe",
          "Africa",
          "Oceania",
          "Europe",
          "Africa",
          "Caribbean",
          "South America",
          "Asia",
          "Caribbean",
          "Oceania",
          "Europe",
          "Asia",
          "North America",
          "Asia",
          "Asia",
          "Caribbean",
          "Europe",
          "Europe",
          "Central America",
          "Africa",
          "Northern America",
          "Asia",
          "South America",
          "Europe",
          "Africa",
          "South America",
          "Africa",
          "Asia",
          "Europe",
          "Africa",
          "Africa",
          "Asia",
          "Africa",
          "Northern America",
          "Africa",
          "Caribbean",
          "Africa",
          "Africa",
          "South America",
          "Asia",
          "South America",
          "Africa",
          "Africa",
          "Africa",
          "Oceania",
          "Central America",
          "Africa",
          "Europe",
          "Caribbean",
          "Europe",
          "Europe",
          "Europe",
          "Africa",
          "Caribbean",
          "Caribbean",
          "Asia",
          "South America",
          "Africa",
          "Central America",
          "Africa",
          "Africa",
          "Europe",
          "Africa",
          "Europe",
          "Oceania",
          "Europe",
          "Europe",
          "South America",
          "Oceania",
          "Africa",
          "Africa",
          "Asia",
          "Europe",
          "Africa",
          "Europe",
          "Europe",
          "Northern America",
          "Caribbean",
          "Caribbean",
          "Oceania",
          "Central America",
          "Europe",
          "Africa",
          "Africa",
          "South America",
          "Caribbean",
          "Central America",
          "Asia",
          "Europe",
          "Europe",
          "Asia",
          "Asia",
          "Asia",
          "Asia",
          "Europe",
          "Europe",
          "Caribbean",
          "Asia",
          "Europe",
          "Asia",
          "Asia",
          "Africa",
          "Oceania",
          "Asia",
          "Asia",
          "Asia",
          "Asia",
          "Europe",
          "Asia",
          "Africa",
          "Africa",
          "Africa",
          "Europe",
          "Europe",
          "Europe",
          "Asia",
          "Europe",
          "Africa",
          "Africa",
          "Asia",
          "Asia",
          "Africa",
          "Europe",
          "Oceania",
          "Caribbean",
          "Africa",
          "Africa",
          "Africa",
          "Central America",
          "Oceania",
          "Europe",
          "Europe",
          "Asia",
          "Europe",
          "Caribbean",
          "Africa",
          "Africa",
          "Asia",
          "Africa",
          "Asia",
          "Europe",
          "North America",
          "Oceania",
          "Oceania",
          "Central America",
          "Africa",
          "Africa",
          "Oceania",
          "Europe",
          "Asia",
          "Asia",
          "Oceania",
          "Asia",
          "Central America",
          "Oceania",
          "South America",
          "South America",
          "Asia",
          "Europe",
          "Europe",
          "Caribbean",
          "Asia",
          "Africa",
          "Europe",
          "Europe",
          "Africa",
          "Caribbean",
          "Caribbean",
          "North America",
          "Caribbean",
          "Oceania",
          "Europe",
          "Africa",
          "Asia",
          "Africa",
          "Europe",
          "Africa",
          "Africa",
          "Asia",
          "Europe",
          "Europe",
          "Oceania",
          "Africa",
          "Africa",
          "Europe",
          "Asia",
          "Africa",
          "South America",
          "Africa",
          "Europe",
          "Europe",
          "Asia",
          "Asia",
          "Asia",
          "Africa",
          "Asia",
          "Africa",
          "Oceania",
          "Caribbean",
          "Africa",
          "Asia",
          "Asia",
          "North America",
          "Africa",
          "Europe",
          "Asia",
          "Europe",
          "Northern America",
          "South America",
          "Asia",
          "Oceania",
          "South America",
          "Asia",
          "North America",
          "North America",
          "Africa",
          "Asia",
          "Africa",
          "Africa"
         ],
         "x0": " ",
         "xaxis": "x",
         "y": [
          1001.15,
          3858.35,
          956.92,
          1308.81,
          1570,
          4069.77,
          314.39,
          1677.78,
          129.42,
          1974.32,
          1268.16,
          4903.23,
          4016.91,
          1741.18,
          3908,
          3936.17,
          236.71,
          1635,
          983.28,
          6522.2,
          1965,
          549.48,
          1600,
          449.3,
          1236.99,
          1248.65,
          860.69,
          1711.16,
          2690,
          2375,
          1794.59,
          534.97,
          420.08,
          808.3,
          744.45,
          7352.94,
          1965.11,
          3901.56,
          699.33,
          787.96,
          2090.56,
          4027.4,
          1157.85,
          651,
          1205.3,
          191.74,
          2832.34,
          4427.01,
          544.64,
          2089.76,
          916.67,
          2293.87,
          2653.06,
          5779.04,
          1553,
          555.56,
          350.6,
          2220,
          1370,
          298.51,
          1710,
          773.46,
          457.33,
          2906.98,
          160.41,
          3810.2,
          2100,
          4978.86,
          4377.38,
          3319.24,
          1293.18,
          894.31,
          246.84,
          2526.12,
          4048.63,
          438.42,
          4135.37,
          2579.28,
          4008.5,
          2329.63,
          4439.75,
          1400,
          1335.88,
          9409.76,
          817.87,
          551.09,
          841.26,
          506.2,
          1139.39,
          4687.1,
          1344.23,
          5049.03,
          384.43,
          788.83,
          1070.97,
          1573.31,
          3399.58,
          3868.92,
          624.56,
          3453.12,
          6304.88,
          2284.91,
          813.99,
          991.43,
          2509.68,
          216.67064,
          2889.81,
          219.92,
          223.54,
          1952.1038,
          873.33,
          625.33,
          380.35,
          470.35,
          5825.14,
          997.90189,
          5211.42,
          928.13,
          794.14,
          290.48,
          151.69,
          1406.38,
          1241.91,
          533.36,
          4904.86,
          2260,
          3192.39,
          52.497697,
          1047.66,
          2748.41,
          1917.34,
          1410,
          1467.03,
          4492.6,
          564.74,
          2832.98,
          1011.11,
          1896.89,
          631.27,
          260.35,
          927.4,
          608.2,
          5179.7,
          2458.1,
          779.45,
          4870.06,
          517.15,
          547.87,
          438.91,
          1990,
          4786.34,
          4635.42,
          284.9,
          2740,
          1710,
          2130,
          1128.77,
          1126.17,
          1997.36,
          790.54,
          1736.84,
          2917.55,
          1683,
          4313.19,
          2198.73,
          1921.11,
          1065.68,
          569.65,
          1259.26,
          1048.15,
          3477.8,
          1262.96,
          884.48,
          4820.3,
          298.78264,
          4480,
          565.59,
          1273.6,
          1403.13,
          277.75,
          6235.29,
          2315.01,
          2093.02,
          756.53,
          455.19,
          1658.72,
          2875.26,
          278.41,
          74.53,
          133.57,
          239.53,
          4144.56,
          11292.9,
          11.51,
          4037.27,
          1069.47,
          505.54,
          2662.11,
          852.41,
          778.72,
          1445.43,
          1239.75,
          286.13,
          1500,
          1490,
          698.31,
          622.8,
          3896.46,
          7235.37,
          7925,
          862.2,
          106.98,
          821.77,
          3862.91,
          711.24,
          1840,
          2710,
          1011.67,
          133.36,
          0.28552394,
          602.37635
         ],
         "y0": " ",
         "yaxis": "y"
        }
       ],
       "layout": {
        "boxmode": "group",
        "legend": {
         "tracegroupgap": 0
        },
        "template": {
         "data": {
          "bar": [
           {
            "error_x": {
             "color": "#2a3f5f"
            },
            "error_y": {
             "color": "#2a3f5f"
            },
            "marker": {
             "line": {
              "color": "#E5ECF6",
              "width": 0.5
             },
             "pattern": {
              "fillmode": "overlay",
              "size": 10,
              "solidity": 0.2
             }
            },
            "type": "bar"
           }
          ],
          "barpolar": [
           {
            "marker": {
             "line": {
              "color": "#E5ECF6",
              "width": 0.5
             },
             "pattern": {
              "fillmode": "overlay",
              "size": 10,
              "solidity": 0.2
             }
            },
            "type": "barpolar"
           }
          ],
          "carpet": [
           {
            "aaxis": {
             "endlinecolor": "#2a3f5f",
             "gridcolor": "white",
             "linecolor": "white",
             "minorgridcolor": "white",
             "startlinecolor": "#2a3f5f"
            },
            "baxis": {
             "endlinecolor": "#2a3f5f",
             "gridcolor": "white",
             "linecolor": "white",
             "minorgridcolor": "white",
             "startlinecolor": "#2a3f5f"
            },
            "type": "carpet"
           }
          ],
          "choropleth": [
           {
            "colorbar": {
             "outlinewidth": 0,
             "ticks": ""
            },
            "type": "choropleth"
           }
          ],
          "contour": [
           {
            "colorbar": {
             "outlinewidth": 0,
             "ticks": ""
            },
            "colorscale": [
             [
              0,
              "#0d0887"
             ],
             [
              0.1111111111111111,
              "#46039f"
             ],
             [
              0.2222222222222222,
              "#7201a8"
             ],
             [
              0.3333333333333333,
              "#9c179e"
             ],
             [
              0.4444444444444444,
              "#bd3786"
             ],
             [
              0.5555555555555556,
              "#d8576b"
             ],
             [
              0.6666666666666666,
              "#ed7953"
             ],
             [
              0.7777777777777778,
              "#fb9f3a"
             ],
             [
              0.8888888888888888,
              "#fdca26"
             ],
             [
              1,
              "#f0f921"
             ]
            ],
            "type": "contour"
           }
          ],
          "contourcarpet": [
           {
            "colorbar": {
             "outlinewidth": 0,
             "ticks": ""
            },
            "type": "contourcarpet"
           }
          ],
          "heatmap": [
           {
            "colorbar": {
             "outlinewidth": 0,
             "ticks": ""
            },
            "colorscale": [
             [
              0,
              "#0d0887"
             ],
             [
              0.1111111111111111,
              "#46039f"
             ],
             [
              0.2222222222222222,
              "#7201a8"
             ],
             [
              0.3333333333333333,
              "#9c179e"
             ],
             [
              0.4444444444444444,
              "#bd3786"
             ],
             [
              0.5555555555555556,
              "#d8576b"
             ],
             [
              0.6666666666666666,
              "#ed7953"
             ],
             [
              0.7777777777777778,
              "#fb9f3a"
             ],
             [
              0.8888888888888888,
              "#fdca26"
             ],
             [
              1,
              "#f0f921"
             ]
            ],
            "type": "heatmap"
           }
          ],
          "heatmapgl": [
           {
            "colorbar": {
             "outlinewidth": 0,
             "ticks": ""
            },
            "colorscale": [
             [
              0,
              "#0d0887"
             ],
             [
              0.1111111111111111,
              "#46039f"
             ],
             [
              0.2222222222222222,
              "#7201a8"
             ],
             [
              0.3333333333333333,
              "#9c179e"
             ],
             [
              0.4444444444444444,
              "#bd3786"
             ],
             [
              0.5555555555555556,
              "#d8576b"
             ],
             [
              0.6666666666666666,
              "#ed7953"
             ],
             [
              0.7777777777777778,
              "#fb9f3a"
             ],
             [
              0.8888888888888888,
              "#fdca26"
             ],
             [
              1,
              "#f0f921"
             ]
            ],
            "type": "heatmapgl"
           }
          ],
          "histogram": [
           {
            "marker": {
             "pattern": {
              "fillmode": "overlay",
              "size": 10,
              "solidity": 0.2
             }
            },
            "type": "histogram"
           }
          ],
          "histogram2d": [
           {
            "colorbar": {
             "outlinewidth": 0,
             "ticks": ""
            },
            "colorscale": [
             [
              0,
              "#0d0887"
             ],
             [
              0.1111111111111111,
              "#46039f"
             ],
             [
              0.2222222222222222,
              "#7201a8"
             ],
             [
              0.3333333333333333,
              "#9c179e"
             ],
             [
              0.4444444444444444,
              "#bd3786"
             ],
             [
              0.5555555555555556,
              "#d8576b"
             ],
             [
              0.6666666666666666,
              "#ed7953"
             ],
             [
              0.7777777777777778,
              "#fb9f3a"
             ],
             [
              0.8888888888888888,
              "#fdca26"
             ],
             [
              1,
              "#f0f921"
             ]
            ],
            "type": "histogram2d"
           }
          ],
          "histogram2dcontour": [
           {
            "colorbar": {
             "outlinewidth": 0,
             "ticks": ""
            },
            "colorscale": [
             [
              0,
              "#0d0887"
             ],
             [
              0.1111111111111111,
              "#46039f"
             ],
             [
              0.2222222222222222,
              "#7201a8"
             ],
             [
              0.3333333333333333,
              "#9c179e"
             ],
             [
              0.4444444444444444,
              "#bd3786"
             ],
             [
              0.5555555555555556,
              "#d8576b"
             ],
             [
              0.6666666666666666,
              "#ed7953"
             ],
             [
              0.7777777777777778,
              "#fb9f3a"
             ],
             [
              0.8888888888888888,
              "#fdca26"
             ],
             [
              1,
              "#f0f921"
             ]
            ],
            "type": "histogram2dcontour"
           }
          ],
          "mesh3d": [
           {
            "colorbar": {
             "outlinewidth": 0,
             "ticks": ""
            },
            "type": "mesh3d"
           }
          ],
          "parcoords": [
           {
            "line": {
             "colorbar": {
              "outlinewidth": 0,
              "ticks": ""
             }
            },
            "type": "parcoords"
           }
          ],
          "pie": [
           {
            "automargin": true,
            "type": "pie"
           }
          ],
          "scatter": [
           {
            "fillpattern": {
             "fillmode": "overlay",
             "size": 10,
             "solidity": 0.2
            },
            "type": "scatter"
           }
          ],
          "scatter3d": [
           {
            "line": {
             "colorbar": {
              "outlinewidth": 0,
              "ticks": ""
             }
            },
            "marker": {
             "colorbar": {
              "outlinewidth": 0,
              "ticks": ""
             }
            },
            "type": "scatter3d"
           }
          ],
          "scattercarpet": [
           {
            "marker": {
             "colorbar": {
              "outlinewidth": 0,
              "ticks": ""
             }
            },
            "type": "scattercarpet"
           }
          ],
          "scattergeo": [
           {
            "marker": {
             "colorbar": {
              "outlinewidth": 0,
              "ticks": ""
             }
            },
            "type": "scattergeo"
           }
          ],
          "scattergl": [
           {
            "marker": {
             "colorbar": {
              "outlinewidth": 0,
              "ticks": ""
             }
            },
            "type": "scattergl"
           }
          ],
          "scattermapbox": [
           {
            "marker": {
             "colorbar": {
              "outlinewidth": 0,
              "ticks": ""
             }
            },
            "type": "scattermapbox"
           }
          ],
          "scatterpolar": [
           {
            "marker": {
             "colorbar": {
              "outlinewidth": 0,
              "ticks": ""
             }
            },
            "type": "scatterpolar"
           }
          ],
          "scatterpolargl": [
           {
            "marker": {
             "colorbar": {
              "outlinewidth": 0,
              "ticks": ""
             }
            },
            "type": "scatterpolargl"
           }
          ],
          "scatterternary": [
           {
            "marker": {
             "colorbar": {
              "outlinewidth": 0,
              "ticks": ""
             }
            },
            "type": "scatterternary"
           }
          ],
          "surface": [
           {
            "colorbar": {
             "outlinewidth": 0,
             "ticks": ""
            },
            "colorscale": [
             [
              0,
              "#0d0887"
             ],
             [
              0.1111111111111111,
              "#46039f"
             ],
             [
              0.2222222222222222,
              "#7201a8"
             ],
             [
              0.3333333333333333,
              "#9c179e"
             ],
             [
              0.4444444444444444,
              "#bd3786"
             ],
             [
              0.5555555555555556,
              "#d8576b"
             ],
             [
              0.6666666666666666,
              "#ed7953"
             ],
             [
              0.7777777777777778,
              "#fb9f3a"
             ],
             [
              0.8888888888888888,
              "#fdca26"
             ],
             [
              1,
              "#f0f921"
             ]
            ],
            "type": "surface"
           }
          ],
          "table": [
           {
            "cells": {
             "fill": {
              "color": "#EBF0F8"
             },
             "line": {
              "color": "white"
             }
            },
            "header": {
             "fill": {
              "color": "#C8D4E3"
             },
             "line": {
              "color": "white"
             }
            },
            "type": "table"
           }
          ]
         },
         "layout": {
          "annotationdefaults": {
           "arrowcolor": "#2a3f5f",
           "arrowhead": 0,
           "arrowwidth": 1
          },
          "autotypenumbers": "strict",
          "coloraxis": {
           "colorbar": {
            "outlinewidth": 0,
            "ticks": ""
           }
          },
          "colorscale": {
           "diverging": [
            [
             0,
             "#8e0152"
            ],
            [
             0.1,
             "#c51b7d"
            ],
            [
             0.2,
             "#de77ae"
            ],
            [
             0.3,
             "#f1b6da"
            ],
            [
             0.4,
             "#fde0ef"
            ],
            [
             0.5,
             "#f7f7f7"
            ],
            [
             0.6,
             "#e6f5d0"
            ],
            [
             0.7,
             "#b8e186"
            ],
            [
             0.8,
             "#7fbc41"
            ],
            [
             0.9,
             "#4d9221"
            ],
            [
             1,
             "#276419"
            ]
           ],
           "sequential": [
            [
             0,
             "#0d0887"
            ],
            [
             0.1111111111111111,
             "#46039f"
            ],
            [
             0.2222222222222222,
             "#7201a8"
            ],
            [
             0.3333333333333333,
             "#9c179e"
            ],
            [
             0.4444444444444444,
             "#bd3786"
            ],
            [
             0.5555555555555556,
             "#d8576b"
            ],
            [
             0.6666666666666666,
             "#ed7953"
            ],
            [
             0.7777777777777778,
             "#fb9f3a"
            ],
            [
             0.8888888888888888,
             "#fdca26"
            ],
            [
             1,
             "#f0f921"
            ]
           ],
           "sequentialminus": [
            [
             0,
             "#0d0887"
            ],
            [
             0.1111111111111111,
             "#46039f"
            ],
            [
             0.2222222222222222,
             "#7201a8"
            ],
            [
             0.3333333333333333,
             "#9c179e"
            ],
            [
             0.4444444444444444,
             "#bd3786"
            ],
            [
             0.5555555555555556,
             "#d8576b"
            ],
            [
             0.6666666666666666,
             "#ed7953"
            ],
            [
             0.7777777777777778,
             "#fb9f3a"
            ],
            [
             0.8888888888888888,
             "#fdca26"
            ],
            [
             1,
             "#f0f921"
            ]
           ]
          },
          "colorway": [
           "#636efa",
           "#EF553B",
           "#00cc96",
           "#ab63fa",
           "#FFA15A",
           "#19d3f3",
           "#FF6692",
           "#B6E880",
           "#FF97FF",
           "#FECB52"
          ],
          "font": {
           "color": "#2a3f5f"
          },
          "geo": {
           "bgcolor": "white",
           "lakecolor": "white",
           "landcolor": "#E5ECF6",
           "showlakes": true,
           "showland": true,
           "subunitcolor": "white"
          },
          "hoverlabel": {
           "align": "left"
          },
          "hovermode": "closest",
          "mapbox": {
           "style": "light"
          },
          "paper_bgcolor": "white",
          "plot_bgcolor": "#E5ECF6",
          "polar": {
           "angularaxis": {
            "gridcolor": "white",
            "linecolor": "white",
            "ticks": ""
           },
           "bgcolor": "#E5ECF6",
           "radialaxis": {
            "gridcolor": "white",
            "linecolor": "white",
            "ticks": ""
           }
          },
          "scene": {
           "xaxis": {
            "backgroundcolor": "#E5ECF6",
            "gridcolor": "white",
            "gridwidth": 2,
            "linecolor": "white",
            "showbackground": true,
            "ticks": "",
            "zerolinecolor": "white"
           },
           "yaxis": {
            "backgroundcolor": "#E5ECF6",
            "gridcolor": "white",
            "gridwidth": 2,
            "linecolor": "white",
            "showbackground": true,
            "ticks": "",
            "zerolinecolor": "white"
           },
           "zaxis": {
            "backgroundcolor": "#E5ECF6",
            "gridcolor": "white",
            "gridwidth": 2,
            "linecolor": "white",
            "showbackground": true,
            "ticks": "",
            "zerolinecolor": "white"
           }
          },
          "shapedefaults": {
           "line": {
            "color": "#2a3f5f"
           }
          },
          "ternary": {
           "aaxis": {
            "gridcolor": "white",
            "linecolor": "white",
            "ticks": ""
           },
           "baxis": {
            "gridcolor": "white",
            "linecolor": "white",
            "ticks": ""
           },
           "bgcolor": "#E5ECF6",
           "caxis": {
            "gridcolor": "white",
            "linecolor": "white",
            "ticks": ""
           }
          },
          "title": {
           "x": 0.05
          },
          "xaxis": {
           "automargin": true,
           "gridcolor": "white",
           "linecolor": "white",
           "ticks": "",
           "title": {
            "standoff": 15
           },
           "zerolinecolor": "white",
           "zerolinewidth": 2
          },
          "yaxis": {
           "automargin": true,
           "gridcolor": "white",
           "linecolor": "white",
           "ticks": "",
           "title": {
            "standoff": 15
           },
           "zerolinecolor": "white",
           "zerolinewidth": 2
          }
         }
        },
        "title": {
         "text": "Distribution of Average Salary by Geographical Region"
        },
        "xaxis": {
         "anchor": "y",
         "domain": [
          0,
          1
         ],
         "title": {
          "text": "Geographical Region"
         }
        },
        "yaxis": {
         "anchor": "x",
         "domain": [
          0,
          1
         ],
         "title": {
          "text": "Average Salary"
         }
        }
       }
      }
     },
     "metadata": {},
     "output_type": "display_data"
    }
   ],
   "source": [
    "fig = px.box(world_salary, x='geographical_region', y='average_salary', title='Distribution of Average Salary by Geographical Region')\n",
    "fig.update_xaxes(title='Geographical Region')\n",
    "fig.update_yaxes(title='Average Salary')\n",
    "fig.show()"
   ]
  },
  {
   "cell_type": "markdown",
   "metadata": {},
   "source": [
    "### Sort the data frame from highest to lowest salary"
   ]
  },
  {
   "cell_type": "code",
   "execution_count": 47,
   "metadata": {},
   "outputs": [
    {
     "name": "stdout",
     "output_type": "stream",
     "text": [
      "       country_name geographical_region wage_span  median_salary  \\\n",
      "192     Switzerland              Europe   Monthly        9836.07   \n",
      "83         Guernsey              Europe   Monthly        8689.02   \n",
      "209   United States    Northern America   Monthly        6966.00   \n",
      "35           Canada    Northern America   Monthly        6311.03   \n",
      "208  United Kingdom              Europe   Monthly        6300.00   \n",
      "\n",
      "     average_salary  lowest_salary  highest_salary  \n",
      "192        11292.90        2850.27        50363.93  \n",
      "83          9409.76        2367.07        41869.51  \n",
      "209         7925.00        2000.00        35250.00  \n",
      "35          7352.94        1850.00        32720.59  \n",
      "208         7235.37        1829.27        32214.63  \n"
     ]
    }
   ],
   "source": [
    "## sort the data frame from highest to lowest average salary\n",
    "sorted_df = world_salary.sort_values(by=['average_salary'], ascending=[False])\n",
    "print(sorted_df.head())"
   ]
  },
  {
   "cell_type": "markdown",
   "metadata": {},
   "source": [
    "### After sorting the data frame, we see that switzerland has the highest average salary with $11,292, followed by Guernsey then the United states"
   ]
  },
  {
   "cell_type": "markdown",
   "metadata": {},
   "source": [
    "## Comparing Geographical regions median and average salaries\n",
    "\n",
    "I hypothesis that Northern America will average a higher median and average salary compared to other geographical locations"
   ]
  },
  {
   "cell_type": "code",
   "execution_count": 48,
   "metadata": {},
   "outputs": [
    {
     "name": "stdout",
     "output_type": "stream",
     "text": [
      "  geographical_region  median_salary\n",
      "0              Africa        525.390\n",
      "1                Asia        946.205\n",
      "2           Caribbean       1125.295\n",
      "3     Central America       1575.985\n",
      "4              Europe       3021.140\n",
      "5       North America       2324.080\n",
      "6    Northern America       4918.970\n",
      "7             Oceania       1330.000\n",
      "8       South America       1131.500\n"
     ]
    }
   ],
   "source": [
    "## create a df that holds the average and median salaries in a data frame\n",
    "region_salary = world_salary.groupby('geographical_region')['average_salary'].mean().reset_index()\n",
    "\n",
    "region_median_salary = world_salary.groupby('geographical_region')['median_salary'].median().reset_index()\n",
    "print(region_median_salary)"
   ]
  },
  {
   "cell_type": "code",
   "execution_count": 49,
   "metadata": {},
   "outputs": [
    {
     "data": {
      "application/vnd.plotly.v1+json": {
       "config": {
        "plotlyServerURL": "https://plot.ly"
       },
       "data": [
        {
         "alignmentgroup": "True",
         "hovertemplate": "geographical_region=%{x}<br>average_salary=%{y}<extra></extra>",
         "legendgroup": "Africa",
         "marker": {
          "color": "#636efa",
          "pattern": {
           "shape": ""
          }
         },
         "name": "Africa",
         "offsetgroup": "Africa",
         "orientation": "v",
         "showlegend": true,
         "textposition": "auto",
         "type": "bar",
         "x": [
          "Africa"
         ],
         "xaxis": "x",
         "y": [
          772.7198633498245
         ],
         "yaxis": "y"
        },
        {
         "alignmentgroup": "True",
         "hovertemplate": "geographical_region=%{x}<br>average_salary=%{y}<extra></extra>",
         "legendgroup": "Asia",
         "marker": {
          "color": "#EF553B",
          "pattern": {
           "shape": "/"
          }
         },
         "name": "Asia",
         "offsetgroup": "Asia",
         "orientation": "v",
         "showlegend": true,
         "textposition": "auto",
         "type": "bar",
         "x": [
          "Asia"
         ],
         "xaxis": "x",
         "y": [
          1727.6577216666667
         ],
         "yaxis": "y"
        },
        {
         "alignmentgroup": "True",
         "hovertemplate": "geographical_region=%{x}<br>average_salary=%{y}<extra></extra>",
         "legendgroup": "Caribbean",
         "marker": {
          "color": "#00cc96",
          "pattern": {
           "shape": "\\"
          }
         },
         "name": "Caribbean",
         "offsetgroup": "Caribbean",
         "orientation": "v",
         "showlegend": true,
         "textposition": "auto",
         "type": "bar",
         "x": [
          "Caribbean"
         ],
         "xaxis": "x",
         "y": [
          1617.0983333333334
         ],
         "yaxis": "y"
        },
        {
         "alignmentgroup": "True",
         "hovertemplate": "geographical_region=%{x}<br>average_salary=%{y}<extra></extra>",
         "legendgroup": "Central America",
         "marker": {
          "color": "#ab63fa",
          "pattern": {
           "shape": "x"
          }
         },
         "name": "Central America",
         "offsetgroup": "Central America",
         "orientation": "v",
         "showlegend": true,
         "textposition": "auto",
         "type": "bar",
         "x": [
          "Central America"
         ],
         "xaxis": "x",
         "y": [
          1892.72125
         ],
         "yaxis": "y"
        },
        {
         "alignmentgroup": "True",
         "hovertemplate": "geographical_region=%{x}<br>average_salary=%{y}<extra></extra>",
         "legendgroup": "Europe",
         "marker": {
          "color": "#FFA15A",
          "pattern": {
           "shape": "+"
          }
         },
         "name": "Europe",
         "offsetgroup": "Europe",
         "orientation": "v",
         "showlegend": true,
         "textposition": "auto",
         "type": "bar",
         "x": [
          "Europe"
         ],
         "xaxis": "x",
         "y": [
          3576.2799120408167
         ],
         "yaxis": "y"
        },
        {
         "alignmentgroup": "True",
         "hovertemplate": "geographical_region=%{x}<br>average_salary=%{y}<extra></extra>",
         "legendgroup": "North America",
         "marker": {
          "color": "#19d3f3",
          "pattern": {
           "shape": "."
          }
         },
         "name": "North America",
         "offsetgroup": "North America",
         "orientation": "v",
         "showlegend": true,
         "textposition": "auto",
         "type": "bar",
         "x": [
          "North America"
         ],
         "xaxis": "x",
         "y": [
          2647.3166666666666
         ],
         "yaxis": "y"
        },
        {
         "alignmentgroup": "True",
         "hovertemplate": "geographical_region=%{x}<br>average_salary=%{y}<extra></extra>",
         "legendgroup": "Northern America",
         "marker": {
          "color": "#FF6692",
          "pattern": {
           "shape": ""
          }
         },
         "name": "Northern America",
         "offsetgroup": "Northern America",
         "orientation": "v",
         "showlegend": true,
         "textposition": "auto",
         "type": "bar",
         "x": [
          "Northern America"
         ],
         "xaxis": "x",
         "y": [
          5221.61
         ],
         "yaxis": "y"
        },
        {
         "alignmentgroup": "True",
         "hovertemplate": "geographical_region=%{x}<br>average_salary=%{y}<extra></extra>",
         "legendgroup": "Oceania",
         "marker": {
          "color": "#B6E880",
          "pattern": {
           "shape": "/"
          }
         },
         "name": "Oceania",
         "offsetgroup": "Oceania",
         "orientation": "v",
         "showlegend": true,
         "textposition": "auto",
         "type": "bar",
         "x": [
          "Oceania"
         ],
         "xaxis": "x",
         "y": [
          1946.0116666666665
         ],
         "yaxis": "y"
        },
        {
         "alignmentgroup": "True",
         "hovertemplate": "geographical_region=%{x}<br>average_salary=%{y}<extra></extra>",
         "legendgroup": "South America",
         "marker": {
          "color": "#FF97FF",
          "pattern": {
           "shape": "\\"
          }
         },
         "name": "South America",
         "offsetgroup": "South America",
         "orientation": "v",
         "showlegend": true,
         "textposition": "auto",
         "type": "bar",
         "x": [
          "South America"
         ],
         "xaxis": "x",
         "y": [
          1526.0530769230768
         ],
         "yaxis": "y"
        }
       ],
       "layout": {
        "barmode": "relative",
        "legend": {
         "title": {
          "text": "geographical_region"
         },
         "tracegroupgap": 0
        },
        "margin": {
         "t": 60
        },
        "template": {
         "data": {
          "bar": [
           {
            "error_x": {
             "color": "#2a3f5f"
            },
            "error_y": {
             "color": "#2a3f5f"
            },
            "marker": {
             "line": {
              "color": "#E5ECF6",
              "width": 0.5
             },
             "pattern": {
              "fillmode": "overlay",
              "size": 10,
              "solidity": 0.2
             }
            },
            "type": "bar"
           }
          ],
          "barpolar": [
           {
            "marker": {
             "line": {
              "color": "#E5ECF6",
              "width": 0.5
             },
             "pattern": {
              "fillmode": "overlay",
              "size": 10,
              "solidity": 0.2
             }
            },
            "type": "barpolar"
           }
          ],
          "carpet": [
           {
            "aaxis": {
             "endlinecolor": "#2a3f5f",
             "gridcolor": "white",
             "linecolor": "white",
             "minorgridcolor": "white",
             "startlinecolor": "#2a3f5f"
            },
            "baxis": {
             "endlinecolor": "#2a3f5f",
             "gridcolor": "white",
             "linecolor": "white",
             "minorgridcolor": "white",
             "startlinecolor": "#2a3f5f"
            },
            "type": "carpet"
           }
          ],
          "choropleth": [
           {
            "colorbar": {
             "outlinewidth": 0,
             "ticks": ""
            },
            "type": "choropleth"
           }
          ],
          "contour": [
           {
            "colorbar": {
             "outlinewidth": 0,
             "ticks": ""
            },
            "colorscale": [
             [
              0,
              "#0d0887"
             ],
             [
              0.1111111111111111,
              "#46039f"
             ],
             [
              0.2222222222222222,
              "#7201a8"
             ],
             [
              0.3333333333333333,
              "#9c179e"
             ],
             [
              0.4444444444444444,
              "#bd3786"
             ],
             [
              0.5555555555555556,
              "#d8576b"
             ],
             [
              0.6666666666666666,
              "#ed7953"
             ],
             [
              0.7777777777777778,
              "#fb9f3a"
             ],
             [
              0.8888888888888888,
              "#fdca26"
             ],
             [
              1,
              "#f0f921"
             ]
            ],
            "type": "contour"
           }
          ],
          "contourcarpet": [
           {
            "colorbar": {
             "outlinewidth": 0,
             "ticks": ""
            },
            "type": "contourcarpet"
           }
          ],
          "heatmap": [
           {
            "colorbar": {
             "outlinewidth": 0,
             "ticks": ""
            },
            "colorscale": [
             [
              0,
              "#0d0887"
             ],
             [
              0.1111111111111111,
              "#46039f"
             ],
             [
              0.2222222222222222,
              "#7201a8"
             ],
             [
              0.3333333333333333,
              "#9c179e"
             ],
             [
              0.4444444444444444,
              "#bd3786"
             ],
             [
              0.5555555555555556,
              "#d8576b"
             ],
             [
              0.6666666666666666,
              "#ed7953"
             ],
             [
              0.7777777777777778,
              "#fb9f3a"
             ],
             [
              0.8888888888888888,
              "#fdca26"
             ],
             [
              1,
              "#f0f921"
             ]
            ],
            "type": "heatmap"
           }
          ],
          "heatmapgl": [
           {
            "colorbar": {
             "outlinewidth": 0,
             "ticks": ""
            },
            "colorscale": [
             [
              0,
              "#0d0887"
             ],
             [
              0.1111111111111111,
              "#46039f"
             ],
             [
              0.2222222222222222,
              "#7201a8"
             ],
             [
              0.3333333333333333,
              "#9c179e"
             ],
             [
              0.4444444444444444,
              "#bd3786"
             ],
             [
              0.5555555555555556,
              "#d8576b"
             ],
             [
              0.6666666666666666,
              "#ed7953"
             ],
             [
              0.7777777777777778,
              "#fb9f3a"
             ],
             [
              0.8888888888888888,
              "#fdca26"
             ],
             [
              1,
              "#f0f921"
             ]
            ],
            "type": "heatmapgl"
           }
          ],
          "histogram": [
           {
            "marker": {
             "pattern": {
              "fillmode": "overlay",
              "size": 10,
              "solidity": 0.2
             }
            },
            "type": "histogram"
           }
          ],
          "histogram2d": [
           {
            "colorbar": {
             "outlinewidth": 0,
             "ticks": ""
            },
            "colorscale": [
             [
              0,
              "#0d0887"
             ],
             [
              0.1111111111111111,
              "#46039f"
             ],
             [
              0.2222222222222222,
              "#7201a8"
             ],
             [
              0.3333333333333333,
              "#9c179e"
             ],
             [
              0.4444444444444444,
              "#bd3786"
             ],
             [
              0.5555555555555556,
              "#d8576b"
             ],
             [
              0.6666666666666666,
              "#ed7953"
             ],
             [
              0.7777777777777778,
              "#fb9f3a"
             ],
             [
              0.8888888888888888,
              "#fdca26"
             ],
             [
              1,
              "#f0f921"
             ]
            ],
            "type": "histogram2d"
           }
          ],
          "histogram2dcontour": [
           {
            "colorbar": {
             "outlinewidth": 0,
             "ticks": ""
            },
            "colorscale": [
             [
              0,
              "#0d0887"
             ],
             [
              0.1111111111111111,
              "#46039f"
             ],
             [
              0.2222222222222222,
              "#7201a8"
             ],
             [
              0.3333333333333333,
              "#9c179e"
             ],
             [
              0.4444444444444444,
              "#bd3786"
             ],
             [
              0.5555555555555556,
              "#d8576b"
             ],
             [
              0.6666666666666666,
              "#ed7953"
             ],
             [
              0.7777777777777778,
              "#fb9f3a"
             ],
             [
              0.8888888888888888,
              "#fdca26"
             ],
             [
              1,
              "#f0f921"
             ]
            ],
            "type": "histogram2dcontour"
           }
          ],
          "mesh3d": [
           {
            "colorbar": {
             "outlinewidth": 0,
             "ticks": ""
            },
            "type": "mesh3d"
           }
          ],
          "parcoords": [
           {
            "line": {
             "colorbar": {
              "outlinewidth": 0,
              "ticks": ""
             }
            },
            "type": "parcoords"
           }
          ],
          "pie": [
           {
            "automargin": true,
            "type": "pie"
           }
          ],
          "scatter": [
           {
            "fillpattern": {
             "fillmode": "overlay",
             "size": 10,
             "solidity": 0.2
            },
            "type": "scatter"
           }
          ],
          "scatter3d": [
           {
            "line": {
             "colorbar": {
              "outlinewidth": 0,
              "ticks": ""
             }
            },
            "marker": {
             "colorbar": {
              "outlinewidth": 0,
              "ticks": ""
             }
            },
            "type": "scatter3d"
           }
          ],
          "scattercarpet": [
           {
            "marker": {
             "colorbar": {
              "outlinewidth": 0,
              "ticks": ""
             }
            },
            "type": "scattercarpet"
           }
          ],
          "scattergeo": [
           {
            "marker": {
             "colorbar": {
              "outlinewidth": 0,
              "ticks": ""
             }
            },
            "type": "scattergeo"
           }
          ],
          "scattergl": [
           {
            "marker": {
             "colorbar": {
              "outlinewidth": 0,
              "ticks": ""
             }
            },
            "type": "scattergl"
           }
          ],
          "scattermapbox": [
           {
            "marker": {
             "colorbar": {
              "outlinewidth": 0,
              "ticks": ""
             }
            },
            "type": "scattermapbox"
           }
          ],
          "scatterpolar": [
           {
            "marker": {
             "colorbar": {
              "outlinewidth": 0,
              "ticks": ""
             }
            },
            "type": "scatterpolar"
           }
          ],
          "scatterpolargl": [
           {
            "marker": {
             "colorbar": {
              "outlinewidth": 0,
              "ticks": ""
             }
            },
            "type": "scatterpolargl"
           }
          ],
          "scatterternary": [
           {
            "marker": {
             "colorbar": {
              "outlinewidth": 0,
              "ticks": ""
             }
            },
            "type": "scatterternary"
           }
          ],
          "surface": [
           {
            "colorbar": {
             "outlinewidth": 0,
             "ticks": ""
            },
            "colorscale": [
             [
              0,
              "#0d0887"
             ],
             [
              0.1111111111111111,
              "#46039f"
             ],
             [
              0.2222222222222222,
              "#7201a8"
             ],
             [
              0.3333333333333333,
              "#9c179e"
             ],
             [
              0.4444444444444444,
              "#bd3786"
             ],
             [
              0.5555555555555556,
              "#d8576b"
             ],
             [
              0.6666666666666666,
              "#ed7953"
             ],
             [
              0.7777777777777778,
              "#fb9f3a"
             ],
             [
              0.8888888888888888,
              "#fdca26"
             ],
             [
              1,
              "#f0f921"
             ]
            ],
            "type": "surface"
           }
          ],
          "table": [
           {
            "cells": {
             "fill": {
              "color": "#EBF0F8"
             },
             "line": {
              "color": "white"
             }
            },
            "header": {
             "fill": {
              "color": "#C8D4E3"
             },
             "line": {
              "color": "white"
             }
            },
            "type": "table"
           }
          ]
         },
         "layout": {
          "annotationdefaults": {
           "arrowcolor": "#2a3f5f",
           "arrowhead": 0,
           "arrowwidth": 1
          },
          "autotypenumbers": "strict",
          "coloraxis": {
           "colorbar": {
            "outlinewidth": 0,
            "ticks": ""
           }
          },
          "colorscale": {
           "diverging": [
            [
             0,
             "#8e0152"
            ],
            [
             0.1,
             "#c51b7d"
            ],
            [
             0.2,
             "#de77ae"
            ],
            [
             0.3,
             "#f1b6da"
            ],
            [
             0.4,
             "#fde0ef"
            ],
            [
             0.5,
             "#f7f7f7"
            ],
            [
             0.6,
             "#e6f5d0"
            ],
            [
             0.7,
             "#b8e186"
            ],
            [
             0.8,
             "#7fbc41"
            ],
            [
             0.9,
             "#4d9221"
            ],
            [
             1,
             "#276419"
            ]
           ],
           "sequential": [
            [
             0,
             "#0d0887"
            ],
            [
             0.1111111111111111,
             "#46039f"
            ],
            [
             0.2222222222222222,
             "#7201a8"
            ],
            [
             0.3333333333333333,
             "#9c179e"
            ],
            [
             0.4444444444444444,
             "#bd3786"
            ],
            [
             0.5555555555555556,
             "#d8576b"
            ],
            [
             0.6666666666666666,
             "#ed7953"
            ],
            [
             0.7777777777777778,
             "#fb9f3a"
            ],
            [
             0.8888888888888888,
             "#fdca26"
            ],
            [
             1,
             "#f0f921"
            ]
           ],
           "sequentialminus": [
            [
             0,
             "#0d0887"
            ],
            [
             0.1111111111111111,
             "#46039f"
            ],
            [
             0.2222222222222222,
             "#7201a8"
            ],
            [
             0.3333333333333333,
             "#9c179e"
            ],
            [
             0.4444444444444444,
             "#bd3786"
            ],
            [
             0.5555555555555556,
             "#d8576b"
            ],
            [
             0.6666666666666666,
             "#ed7953"
            ],
            [
             0.7777777777777778,
             "#fb9f3a"
            ],
            [
             0.8888888888888888,
             "#fdca26"
            ],
            [
             1,
             "#f0f921"
            ]
           ]
          },
          "colorway": [
           "#636efa",
           "#EF553B",
           "#00cc96",
           "#ab63fa",
           "#FFA15A",
           "#19d3f3",
           "#FF6692",
           "#B6E880",
           "#FF97FF",
           "#FECB52"
          ],
          "font": {
           "color": "#2a3f5f"
          },
          "geo": {
           "bgcolor": "white",
           "lakecolor": "white",
           "landcolor": "#E5ECF6",
           "showlakes": true,
           "showland": true,
           "subunitcolor": "white"
          },
          "hoverlabel": {
           "align": "left"
          },
          "hovermode": "closest",
          "mapbox": {
           "style": "light"
          },
          "paper_bgcolor": "white",
          "plot_bgcolor": "#E5ECF6",
          "polar": {
           "angularaxis": {
            "gridcolor": "white",
            "linecolor": "white",
            "ticks": ""
           },
           "bgcolor": "#E5ECF6",
           "radialaxis": {
            "gridcolor": "white",
            "linecolor": "white",
            "ticks": ""
           }
          },
          "scene": {
           "xaxis": {
            "backgroundcolor": "#E5ECF6",
            "gridcolor": "white",
            "gridwidth": 2,
            "linecolor": "white",
            "showbackground": true,
            "ticks": "",
            "zerolinecolor": "white"
           },
           "yaxis": {
            "backgroundcolor": "#E5ECF6",
            "gridcolor": "white",
            "gridwidth": 2,
            "linecolor": "white",
            "showbackground": true,
            "ticks": "",
            "zerolinecolor": "white"
           },
           "zaxis": {
            "backgroundcolor": "#E5ECF6",
            "gridcolor": "white",
            "gridwidth": 2,
            "linecolor": "white",
            "showbackground": true,
            "ticks": "",
            "zerolinecolor": "white"
           }
          },
          "shapedefaults": {
           "line": {
            "color": "#2a3f5f"
           }
          },
          "ternary": {
           "aaxis": {
            "gridcolor": "white",
            "linecolor": "white",
            "ticks": ""
           },
           "baxis": {
            "gridcolor": "white",
            "linecolor": "white",
            "ticks": ""
           },
           "bgcolor": "#E5ECF6",
           "caxis": {
            "gridcolor": "white",
            "linecolor": "white",
            "ticks": ""
           }
          },
          "title": {
           "x": 0.05
          },
          "xaxis": {
           "automargin": true,
           "gridcolor": "white",
           "linecolor": "white",
           "ticks": "",
           "title": {
            "standoff": 15
           },
           "zerolinecolor": "white",
           "zerolinewidth": 2
          },
          "yaxis": {
           "automargin": true,
           "gridcolor": "white",
           "linecolor": "white",
           "ticks": "",
           "title": {
            "standoff": 15
           },
           "zerolinecolor": "white",
           "zerolinewidth": 2
          }
         }
        },
        "xaxis": {
         "anchor": "y",
         "categoryarray": [
          "Africa",
          "Asia",
          "Caribbean",
          "Central America",
          "Europe",
          "North America",
          "Northern America",
          "Oceania",
          "South America"
         ],
         "categoryorder": "array",
         "domain": [
          0,
          1
         ],
         "title": {
          "text": "geographical_region"
         }
        },
        "yaxis": {
         "anchor": "x",
         "domain": [
          0,
          1
         ],
         "title": {
          "text": "average_salary"
         }
        }
       }
      }
     },
     "metadata": {},
     "output_type": "display_data"
    }
   ],
   "source": [
    "## renaming continent name with goegraphical region to better suit the column names\n",
    "fig = px.bar(region_salary, x =\"geographical_region\", y=\"average_salary\", color=\"geographical_region\", pattern_shape=\"geographical_region\")\n",
    "fig.show()"
   ]
  },
  {
   "cell_type": "markdown",
   "metadata": {},
   "source": [
    "### Visualize the median salaries "
   ]
  },
  {
   "cell_type": "code",
   "execution_count": 50,
   "metadata": {},
   "outputs": [
    {
     "data": {
      "application/vnd.plotly.v1+json": {
       "config": {
        "plotlyServerURL": "https://plot.ly"
       },
       "data": [
        {
         "alignmentgroup": "True",
         "hovertemplate": "geographical_region=%{x}<br>median_salary=%{y}<extra></extra>",
         "legendgroup": "Africa",
         "marker": {
          "color": "#636efa",
          "pattern": {
           "shape": ""
          }
         },
         "name": "Africa",
         "offsetgroup": "Africa",
         "orientation": "v",
         "showlegend": true,
         "textposition": "auto",
         "type": "bar",
         "x": [
          "Africa"
         ],
         "xaxis": "x",
         "y": [
          525.39
         ],
         "yaxis": "y"
        },
        {
         "alignmentgroup": "True",
         "hovertemplate": "geographical_region=%{x}<br>median_salary=%{y}<extra></extra>",
         "legendgroup": "Asia",
         "marker": {
          "color": "#EF553B",
          "pattern": {
           "shape": ""
          }
         },
         "name": "Asia",
         "offsetgroup": "Asia",
         "orientation": "v",
         "showlegend": true,
         "textposition": "auto",
         "type": "bar",
         "x": [
          "Asia"
         ],
         "xaxis": "x",
         "y": [
          946.2049999999999
         ],
         "yaxis": "y"
        },
        {
         "alignmentgroup": "True",
         "hovertemplate": "geographical_region=%{x}<br>median_salary=%{y}<extra></extra>",
         "legendgroup": "Caribbean",
         "marker": {
          "color": "#00cc96",
          "pattern": {
           "shape": ""
          }
         },
         "name": "Caribbean",
         "offsetgroup": "Caribbean",
         "orientation": "v",
         "showlegend": true,
         "textposition": "auto",
         "type": "bar",
         "x": [
          "Caribbean"
         ],
         "xaxis": "x",
         "y": [
          1125.295
         ],
         "yaxis": "y"
        },
        {
         "alignmentgroup": "True",
         "hovertemplate": "geographical_region=%{x}<br>median_salary=%{y}<extra></extra>",
         "legendgroup": "Central America",
         "marker": {
          "color": "#ab63fa",
          "pattern": {
           "shape": ""
          }
         },
         "name": "Central America",
         "offsetgroup": "Central America",
         "orientation": "v",
         "showlegend": true,
         "textposition": "auto",
         "type": "bar",
         "x": [
          "Central America"
         ],
         "xaxis": "x",
         "y": [
          1575.9850000000001
         ],
         "yaxis": "y"
        },
        {
         "alignmentgroup": "True",
         "hovertemplate": "geographical_region=%{x}<br>median_salary=%{y}<extra></extra>",
         "legendgroup": "Europe",
         "marker": {
          "color": "#FFA15A",
          "pattern": {
           "shape": ""
          }
         },
         "name": "Europe",
         "offsetgroup": "Europe",
         "orientation": "v",
         "showlegend": true,
         "textposition": "auto",
         "type": "bar",
         "x": [
          "Europe"
         ],
         "xaxis": "x",
         "y": [
          3021.14
         ],
         "yaxis": "y"
        },
        {
         "alignmentgroup": "True",
         "hovertemplate": "geographical_region=%{x}<br>median_salary=%{y}<extra></extra>",
         "legendgroup": "North America",
         "marker": {
          "color": "#19d3f3",
          "pattern": {
           "shape": ""
          }
         },
         "name": "North America",
         "offsetgroup": "North America",
         "orientation": "v",
         "showlegend": true,
         "textposition": "auto",
         "type": "bar",
         "x": [
          "North America"
         ],
         "xaxis": "x",
         "y": [
          2324.08
         ],
         "yaxis": "y"
        },
        {
         "alignmentgroup": "True",
         "hovertemplate": "geographical_region=%{x}<br>median_salary=%{y}<extra></extra>",
         "legendgroup": "Northern America",
         "marker": {
          "color": "#FF6692",
          "pattern": {
           "shape": ""
          }
         },
         "name": "Northern America",
         "offsetgroup": "Northern America",
         "orientation": "v",
         "showlegend": true,
         "textposition": "auto",
         "type": "bar",
         "x": [
          "Northern America"
         ],
         "xaxis": "x",
         "y": [
          4918.969999999999
         ],
         "yaxis": "y"
        },
        {
         "alignmentgroup": "True",
         "hovertemplate": "geographical_region=%{x}<br>median_salary=%{y}<extra></extra>",
         "legendgroup": "Oceania",
         "marker": {
          "color": "#B6E880",
          "pattern": {
           "shape": ""
          }
         },
         "name": "Oceania",
         "offsetgroup": "Oceania",
         "orientation": "v",
         "showlegend": true,
         "textposition": "auto",
         "type": "bar",
         "x": [
          "Oceania"
         ],
         "xaxis": "x",
         "y": [
          1330
         ],
         "yaxis": "y"
        },
        {
         "alignmentgroup": "True",
         "hovertemplate": "geographical_region=%{x}<br>median_salary=%{y}<extra></extra>",
         "legendgroup": "South America",
         "marker": {
          "color": "#FF97FF",
          "pattern": {
           "shape": ""
          }
         },
         "name": "South America",
         "offsetgroup": "South America",
         "orientation": "v",
         "showlegend": true,
         "textposition": "auto",
         "type": "bar",
         "x": [
          "South America"
         ],
         "xaxis": "x",
         "y": [
          1131.5
         ],
         "yaxis": "y"
        }
       ],
       "layout": {
        "barmode": "relative",
        "legend": {
         "title": {
          "text": "geographical_region"
         },
         "tracegroupgap": 0
        },
        "template": {
         "data": {
          "bar": [
           {
            "error_x": {
             "color": "#2a3f5f"
            },
            "error_y": {
             "color": "#2a3f5f"
            },
            "marker": {
             "line": {
              "color": "#E5ECF6",
              "width": 0.5
             },
             "pattern": {
              "fillmode": "overlay",
              "size": 10,
              "solidity": 0.2
             }
            },
            "type": "bar"
           }
          ],
          "barpolar": [
           {
            "marker": {
             "line": {
              "color": "#E5ECF6",
              "width": 0.5
             },
             "pattern": {
              "fillmode": "overlay",
              "size": 10,
              "solidity": 0.2
             }
            },
            "type": "barpolar"
           }
          ],
          "carpet": [
           {
            "aaxis": {
             "endlinecolor": "#2a3f5f",
             "gridcolor": "white",
             "linecolor": "white",
             "minorgridcolor": "white",
             "startlinecolor": "#2a3f5f"
            },
            "baxis": {
             "endlinecolor": "#2a3f5f",
             "gridcolor": "white",
             "linecolor": "white",
             "minorgridcolor": "white",
             "startlinecolor": "#2a3f5f"
            },
            "type": "carpet"
           }
          ],
          "choropleth": [
           {
            "colorbar": {
             "outlinewidth": 0,
             "ticks": ""
            },
            "type": "choropleth"
           }
          ],
          "contour": [
           {
            "colorbar": {
             "outlinewidth": 0,
             "ticks": ""
            },
            "colorscale": [
             [
              0,
              "#0d0887"
             ],
             [
              0.1111111111111111,
              "#46039f"
             ],
             [
              0.2222222222222222,
              "#7201a8"
             ],
             [
              0.3333333333333333,
              "#9c179e"
             ],
             [
              0.4444444444444444,
              "#bd3786"
             ],
             [
              0.5555555555555556,
              "#d8576b"
             ],
             [
              0.6666666666666666,
              "#ed7953"
             ],
             [
              0.7777777777777778,
              "#fb9f3a"
             ],
             [
              0.8888888888888888,
              "#fdca26"
             ],
             [
              1,
              "#f0f921"
             ]
            ],
            "type": "contour"
           }
          ],
          "contourcarpet": [
           {
            "colorbar": {
             "outlinewidth": 0,
             "ticks": ""
            },
            "type": "contourcarpet"
           }
          ],
          "heatmap": [
           {
            "colorbar": {
             "outlinewidth": 0,
             "ticks": ""
            },
            "colorscale": [
             [
              0,
              "#0d0887"
             ],
             [
              0.1111111111111111,
              "#46039f"
             ],
             [
              0.2222222222222222,
              "#7201a8"
             ],
             [
              0.3333333333333333,
              "#9c179e"
             ],
             [
              0.4444444444444444,
              "#bd3786"
             ],
             [
              0.5555555555555556,
              "#d8576b"
             ],
             [
              0.6666666666666666,
              "#ed7953"
             ],
             [
              0.7777777777777778,
              "#fb9f3a"
             ],
             [
              0.8888888888888888,
              "#fdca26"
             ],
             [
              1,
              "#f0f921"
             ]
            ],
            "type": "heatmap"
           }
          ],
          "heatmapgl": [
           {
            "colorbar": {
             "outlinewidth": 0,
             "ticks": ""
            },
            "colorscale": [
             [
              0,
              "#0d0887"
             ],
             [
              0.1111111111111111,
              "#46039f"
             ],
             [
              0.2222222222222222,
              "#7201a8"
             ],
             [
              0.3333333333333333,
              "#9c179e"
             ],
             [
              0.4444444444444444,
              "#bd3786"
             ],
             [
              0.5555555555555556,
              "#d8576b"
             ],
             [
              0.6666666666666666,
              "#ed7953"
             ],
             [
              0.7777777777777778,
              "#fb9f3a"
             ],
             [
              0.8888888888888888,
              "#fdca26"
             ],
             [
              1,
              "#f0f921"
             ]
            ],
            "type": "heatmapgl"
           }
          ],
          "histogram": [
           {
            "marker": {
             "pattern": {
              "fillmode": "overlay",
              "size": 10,
              "solidity": 0.2
             }
            },
            "type": "histogram"
           }
          ],
          "histogram2d": [
           {
            "colorbar": {
             "outlinewidth": 0,
             "ticks": ""
            },
            "colorscale": [
             [
              0,
              "#0d0887"
             ],
             [
              0.1111111111111111,
              "#46039f"
             ],
             [
              0.2222222222222222,
              "#7201a8"
             ],
             [
              0.3333333333333333,
              "#9c179e"
             ],
             [
              0.4444444444444444,
              "#bd3786"
             ],
             [
              0.5555555555555556,
              "#d8576b"
             ],
             [
              0.6666666666666666,
              "#ed7953"
             ],
             [
              0.7777777777777778,
              "#fb9f3a"
             ],
             [
              0.8888888888888888,
              "#fdca26"
             ],
             [
              1,
              "#f0f921"
             ]
            ],
            "type": "histogram2d"
           }
          ],
          "histogram2dcontour": [
           {
            "colorbar": {
             "outlinewidth": 0,
             "ticks": ""
            },
            "colorscale": [
             [
              0,
              "#0d0887"
             ],
             [
              0.1111111111111111,
              "#46039f"
             ],
             [
              0.2222222222222222,
              "#7201a8"
             ],
             [
              0.3333333333333333,
              "#9c179e"
             ],
             [
              0.4444444444444444,
              "#bd3786"
             ],
             [
              0.5555555555555556,
              "#d8576b"
             ],
             [
              0.6666666666666666,
              "#ed7953"
             ],
             [
              0.7777777777777778,
              "#fb9f3a"
             ],
             [
              0.8888888888888888,
              "#fdca26"
             ],
             [
              1,
              "#f0f921"
             ]
            ],
            "type": "histogram2dcontour"
           }
          ],
          "mesh3d": [
           {
            "colorbar": {
             "outlinewidth": 0,
             "ticks": ""
            },
            "type": "mesh3d"
           }
          ],
          "parcoords": [
           {
            "line": {
             "colorbar": {
              "outlinewidth": 0,
              "ticks": ""
             }
            },
            "type": "parcoords"
           }
          ],
          "pie": [
           {
            "automargin": true,
            "type": "pie"
           }
          ],
          "scatter": [
           {
            "fillpattern": {
             "fillmode": "overlay",
             "size": 10,
             "solidity": 0.2
            },
            "type": "scatter"
           }
          ],
          "scatter3d": [
           {
            "line": {
             "colorbar": {
              "outlinewidth": 0,
              "ticks": ""
             }
            },
            "marker": {
             "colorbar": {
              "outlinewidth": 0,
              "ticks": ""
             }
            },
            "type": "scatter3d"
           }
          ],
          "scattercarpet": [
           {
            "marker": {
             "colorbar": {
              "outlinewidth": 0,
              "ticks": ""
             }
            },
            "type": "scattercarpet"
           }
          ],
          "scattergeo": [
           {
            "marker": {
             "colorbar": {
              "outlinewidth": 0,
              "ticks": ""
             }
            },
            "type": "scattergeo"
           }
          ],
          "scattergl": [
           {
            "marker": {
             "colorbar": {
              "outlinewidth": 0,
              "ticks": ""
             }
            },
            "type": "scattergl"
           }
          ],
          "scattermapbox": [
           {
            "marker": {
             "colorbar": {
              "outlinewidth": 0,
              "ticks": ""
             }
            },
            "type": "scattermapbox"
           }
          ],
          "scatterpolar": [
           {
            "marker": {
             "colorbar": {
              "outlinewidth": 0,
              "ticks": ""
             }
            },
            "type": "scatterpolar"
           }
          ],
          "scatterpolargl": [
           {
            "marker": {
             "colorbar": {
              "outlinewidth": 0,
              "ticks": ""
             }
            },
            "type": "scatterpolargl"
           }
          ],
          "scatterternary": [
           {
            "marker": {
             "colorbar": {
              "outlinewidth": 0,
              "ticks": ""
             }
            },
            "type": "scatterternary"
           }
          ],
          "surface": [
           {
            "colorbar": {
             "outlinewidth": 0,
             "ticks": ""
            },
            "colorscale": [
             [
              0,
              "#0d0887"
             ],
             [
              0.1111111111111111,
              "#46039f"
             ],
             [
              0.2222222222222222,
              "#7201a8"
             ],
             [
              0.3333333333333333,
              "#9c179e"
             ],
             [
              0.4444444444444444,
              "#bd3786"
             ],
             [
              0.5555555555555556,
              "#d8576b"
             ],
             [
              0.6666666666666666,
              "#ed7953"
             ],
             [
              0.7777777777777778,
              "#fb9f3a"
             ],
             [
              0.8888888888888888,
              "#fdca26"
             ],
             [
              1,
              "#f0f921"
             ]
            ],
            "type": "surface"
           }
          ],
          "table": [
           {
            "cells": {
             "fill": {
              "color": "#EBF0F8"
             },
             "line": {
              "color": "white"
             }
            },
            "header": {
             "fill": {
              "color": "#C8D4E3"
             },
             "line": {
              "color": "white"
             }
            },
            "type": "table"
           }
          ]
         },
         "layout": {
          "annotationdefaults": {
           "arrowcolor": "#2a3f5f",
           "arrowhead": 0,
           "arrowwidth": 1
          },
          "autotypenumbers": "strict",
          "coloraxis": {
           "colorbar": {
            "outlinewidth": 0,
            "ticks": ""
           }
          },
          "colorscale": {
           "diverging": [
            [
             0,
             "#8e0152"
            ],
            [
             0.1,
             "#c51b7d"
            ],
            [
             0.2,
             "#de77ae"
            ],
            [
             0.3,
             "#f1b6da"
            ],
            [
             0.4,
             "#fde0ef"
            ],
            [
             0.5,
             "#f7f7f7"
            ],
            [
             0.6,
             "#e6f5d0"
            ],
            [
             0.7,
             "#b8e186"
            ],
            [
             0.8,
             "#7fbc41"
            ],
            [
             0.9,
             "#4d9221"
            ],
            [
             1,
             "#276419"
            ]
           ],
           "sequential": [
            [
             0,
             "#0d0887"
            ],
            [
             0.1111111111111111,
             "#46039f"
            ],
            [
             0.2222222222222222,
             "#7201a8"
            ],
            [
             0.3333333333333333,
             "#9c179e"
            ],
            [
             0.4444444444444444,
             "#bd3786"
            ],
            [
             0.5555555555555556,
             "#d8576b"
            ],
            [
             0.6666666666666666,
             "#ed7953"
            ],
            [
             0.7777777777777778,
             "#fb9f3a"
            ],
            [
             0.8888888888888888,
             "#fdca26"
            ],
            [
             1,
             "#f0f921"
            ]
           ],
           "sequentialminus": [
            [
             0,
             "#0d0887"
            ],
            [
             0.1111111111111111,
             "#46039f"
            ],
            [
             0.2222222222222222,
             "#7201a8"
            ],
            [
             0.3333333333333333,
             "#9c179e"
            ],
            [
             0.4444444444444444,
             "#bd3786"
            ],
            [
             0.5555555555555556,
             "#d8576b"
            ],
            [
             0.6666666666666666,
             "#ed7953"
            ],
            [
             0.7777777777777778,
             "#fb9f3a"
            ],
            [
             0.8888888888888888,
             "#fdca26"
            ],
            [
             1,
             "#f0f921"
            ]
           ]
          },
          "colorway": [
           "#636efa",
           "#EF553B",
           "#00cc96",
           "#ab63fa",
           "#FFA15A",
           "#19d3f3",
           "#FF6692",
           "#B6E880",
           "#FF97FF",
           "#FECB52"
          ],
          "font": {
           "color": "#2a3f5f"
          },
          "geo": {
           "bgcolor": "white",
           "lakecolor": "white",
           "landcolor": "#E5ECF6",
           "showlakes": true,
           "showland": true,
           "subunitcolor": "white"
          },
          "hoverlabel": {
           "align": "left"
          },
          "hovermode": "closest",
          "mapbox": {
           "style": "light"
          },
          "paper_bgcolor": "white",
          "plot_bgcolor": "#E5ECF6",
          "polar": {
           "angularaxis": {
            "gridcolor": "white",
            "linecolor": "white",
            "ticks": ""
           },
           "bgcolor": "#E5ECF6",
           "radialaxis": {
            "gridcolor": "white",
            "linecolor": "white",
            "ticks": ""
           }
          },
          "scene": {
           "xaxis": {
            "backgroundcolor": "#E5ECF6",
            "gridcolor": "white",
            "gridwidth": 2,
            "linecolor": "white",
            "showbackground": true,
            "ticks": "",
            "zerolinecolor": "white"
           },
           "yaxis": {
            "backgroundcolor": "#E5ECF6",
            "gridcolor": "white",
            "gridwidth": 2,
            "linecolor": "white",
            "showbackground": true,
            "ticks": "",
            "zerolinecolor": "white"
           },
           "zaxis": {
            "backgroundcolor": "#E5ECF6",
            "gridcolor": "white",
            "gridwidth": 2,
            "linecolor": "white",
            "showbackground": true,
            "ticks": "",
            "zerolinecolor": "white"
           }
          },
          "shapedefaults": {
           "line": {
            "color": "#2a3f5f"
           }
          },
          "ternary": {
           "aaxis": {
            "gridcolor": "white",
            "linecolor": "white",
            "ticks": ""
           },
           "baxis": {
            "gridcolor": "white",
            "linecolor": "white",
            "ticks": ""
           },
           "bgcolor": "#E5ECF6",
           "caxis": {
            "gridcolor": "white",
            "linecolor": "white",
            "ticks": ""
           }
          },
          "title": {
           "x": 0.05
          },
          "xaxis": {
           "automargin": true,
           "gridcolor": "white",
           "linecolor": "white",
           "ticks": "",
           "title": {
            "standoff": 15
           },
           "zerolinecolor": "white",
           "zerolinewidth": 2
          },
          "yaxis": {
           "automargin": true,
           "gridcolor": "white",
           "linecolor": "white",
           "ticks": "",
           "title": {
            "standoff": 15
           },
           "zerolinecolor": "white",
           "zerolinewidth": 2
          }
         }
        },
        "title": {
         "text": "Median Salary by Geographical Region"
        },
        "xaxis": {
         "anchor": "y",
         "categoryarray": [
          "Africa",
          "Asia",
          "Caribbean",
          "Central America",
          "Europe",
          "North America",
          "Northern America",
          "Oceania",
          "South America"
         ],
         "categoryorder": "array",
         "domain": [
          0,
          1
         ],
         "title": {
          "text": "geographical_region"
         }
        },
        "yaxis": {
         "anchor": "x",
         "domain": [
          0,
          1
         ],
         "title": {
          "text": "median_salary"
         }
        }
       }
      }
     },
     "metadata": {},
     "output_type": "display_data"
    }
   ],
   "source": [
    "\n",
    "fig = px.bar(region_median_salary, x='geographical_region', y='median_salary', color = 'geographical_region', title=\"Median Salary by Geographical Region\")\n",
    "fig.show()"
   ]
  },
  {
   "cell_type": "markdown",
   "metadata": {},
   "source": [
    "### By the graph we see that Northern America indeed has the higher median salary as well as a higher average salary than other geographical regions"
   ]
  },
  {
   "cell_type": "markdown",
   "metadata": {},
   "source": [
    "## Extra"
   ]
  },
  {
   "cell_type": "markdown",
   "metadata": {},
   "source": [
    "### Is there a correlation between geographical region and average salaries?"
   ]
  },
  {
   "cell_type": "code",
   "execution_count": 51,
   "metadata": {},
   "outputs": [
    {
     "data": {
      "application/vnd.plotly.v1+json": {
       "config": {
        "plotlyServerURL": "https://plot.ly"
       },
       "data": [
        {
         "hovertemplate": "geographical_region=%{x}<br>average_salary=%{marker.size}<extra></extra>",
         "legendgroup": "Africa",
         "marker": {
          "color": "#636efa",
          "size": [
           772.7198633498245
          ],
          "sizemode": "area",
          "sizeref": 13.054025,
          "symbol": "circle"
         },
         "mode": "markers",
         "name": "Africa",
         "orientation": "v",
         "showlegend": true,
         "type": "scatter",
         "x": [
          "Africa"
         ],
         "xaxis": "x",
         "y": [
          772.7198633498245
         ],
         "yaxis": "y"
        },
        {
         "hovertemplate": "geographical_region=%{x}<br>average_salary=%{marker.size}<extra></extra>",
         "legendgroup": "Asia",
         "marker": {
          "color": "#EF553B",
          "size": [
           1727.6577216666667
          ],
          "sizemode": "area",
          "sizeref": 13.054025,
          "symbol": "circle"
         },
         "mode": "markers",
         "name": "Asia",
         "orientation": "v",
         "showlegend": true,
         "type": "scatter",
         "x": [
          "Asia"
         ],
         "xaxis": "x",
         "y": [
          1727.6577216666667
         ],
         "yaxis": "y"
        },
        {
         "hovertemplate": "geographical_region=%{x}<br>average_salary=%{marker.size}<extra></extra>",
         "legendgroup": "Caribbean",
         "marker": {
          "color": "#00cc96",
          "size": [
           1617.0983333333334
          ],
          "sizemode": "area",
          "sizeref": 13.054025,
          "symbol": "circle"
         },
         "mode": "markers",
         "name": "Caribbean",
         "orientation": "v",
         "showlegend": true,
         "type": "scatter",
         "x": [
          "Caribbean"
         ],
         "xaxis": "x",
         "y": [
          1617.0983333333334
         ],
         "yaxis": "y"
        },
        {
         "hovertemplate": "geographical_region=%{x}<br>average_salary=%{marker.size}<extra></extra>",
         "legendgroup": "Central America",
         "marker": {
          "color": "#ab63fa",
          "size": [
           1892.72125
          ],
          "sizemode": "area",
          "sizeref": 13.054025,
          "symbol": "circle"
         },
         "mode": "markers",
         "name": "Central America",
         "orientation": "v",
         "showlegend": true,
         "type": "scatter",
         "x": [
          "Central America"
         ],
         "xaxis": "x",
         "y": [
          1892.72125
         ],
         "yaxis": "y"
        },
        {
         "hovertemplate": "geographical_region=%{x}<br>average_salary=%{marker.size}<extra></extra>",
         "legendgroup": "Europe",
         "marker": {
          "color": "#FFA15A",
          "size": [
           3576.2799120408167
          ],
          "sizemode": "area",
          "sizeref": 13.054025,
          "symbol": "circle"
         },
         "mode": "markers",
         "name": "Europe",
         "orientation": "v",
         "showlegend": true,
         "type": "scatter",
         "x": [
          "Europe"
         ],
         "xaxis": "x",
         "y": [
          3576.2799120408167
         ],
         "yaxis": "y"
        },
        {
         "hovertemplate": "geographical_region=%{x}<br>average_salary=%{marker.size}<extra></extra>",
         "legendgroup": "North America",
         "marker": {
          "color": "#19d3f3",
          "size": [
           2647.3166666666666
          ],
          "sizemode": "area",
          "sizeref": 13.054025,
          "symbol": "circle"
         },
         "mode": "markers",
         "name": "North America",
         "orientation": "v",
         "showlegend": true,
         "type": "scatter",
         "x": [
          "North America"
         ],
         "xaxis": "x",
         "y": [
          2647.3166666666666
         ],
         "yaxis": "y"
        },
        {
         "hovertemplate": "geographical_region=%{x}<br>average_salary=%{marker.size}<extra></extra>",
         "legendgroup": "Northern America",
         "marker": {
          "color": "#FF6692",
          "size": [
           5221.61
          ],
          "sizemode": "area",
          "sizeref": 13.054025,
          "symbol": "circle"
         },
         "mode": "markers",
         "name": "Northern America",
         "orientation": "v",
         "showlegend": true,
         "type": "scatter",
         "x": [
          "Northern America"
         ],
         "xaxis": "x",
         "y": [
          5221.61
         ],
         "yaxis": "y"
        },
        {
         "hovertemplate": "geographical_region=%{x}<br>average_salary=%{marker.size}<extra></extra>",
         "legendgroup": "Oceania",
         "marker": {
          "color": "#B6E880",
          "size": [
           1946.0116666666665
          ],
          "sizemode": "area",
          "sizeref": 13.054025,
          "symbol": "circle"
         },
         "mode": "markers",
         "name": "Oceania",
         "orientation": "v",
         "showlegend": true,
         "type": "scatter",
         "x": [
          "Oceania"
         ],
         "xaxis": "x",
         "y": [
          1946.0116666666665
         ],
         "yaxis": "y"
        },
        {
         "hovertemplate": "geographical_region=%{x}<br>average_salary=%{marker.size}<extra></extra>",
         "legendgroup": "South America",
         "marker": {
          "color": "#FF97FF",
          "size": [
           1526.0530769230768
          ],
          "sizemode": "area",
          "sizeref": 13.054025,
          "symbol": "circle"
         },
         "mode": "markers",
         "name": "South America",
         "orientation": "v",
         "showlegend": true,
         "type": "scatter",
         "x": [
          "South America"
         ],
         "xaxis": "x",
         "y": [
          1526.0530769230768
         ],
         "yaxis": "y"
        }
       ],
       "layout": {
        "legend": {
         "itemsizing": "constant",
         "title": {
          "text": "geographical_region"
         },
         "tracegroupgap": 0
        },
        "margin": {
         "t": 60
        },
        "template": {
         "data": {
          "bar": [
           {
            "error_x": {
             "color": "#2a3f5f"
            },
            "error_y": {
             "color": "#2a3f5f"
            },
            "marker": {
             "line": {
              "color": "#E5ECF6",
              "width": 0.5
             },
             "pattern": {
              "fillmode": "overlay",
              "size": 10,
              "solidity": 0.2
             }
            },
            "type": "bar"
           }
          ],
          "barpolar": [
           {
            "marker": {
             "line": {
              "color": "#E5ECF6",
              "width": 0.5
             },
             "pattern": {
              "fillmode": "overlay",
              "size": 10,
              "solidity": 0.2
             }
            },
            "type": "barpolar"
           }
          ],
          "carpet": [
           {
            "aaxis": {
             "endlinecolor": "#2a3f5f",
             "gridcolor": "white",
             "linecolor": "white",
             "minorgridcolor": "white",
             "startlinecolor": "#2a3f5f"
            },
            "baxis": {
             "endlinecolor": "#2a3f5f",
             "gridcolor": "white",
             "linecolor": "white",
             "minorgridcolor": "white",
             "startlinecolor": "#2a3f5f"
            },
            "type": "carpet"
           }
          ],
          "choropleth": [
           {
            "colorbar": {
             "outlinewidth": 0,
             "ticks": ""
            },
            "type": "choropleth"
           }
          ],
          "contour": [
           {
            "colorbar": {
             "outlinewidth": 0,
             "ticks": ""
            },
            "colorscale": [
             [
              0,
              "#0d0887"
             ],
             [
              0.1111111111111111,
              "#46039f"
             ],
             [
              0.2222222222222222,
              "#7201a8"
             ],
             [
              0.3333333333333333,
              "#9c179e"
             ],
             [
              0.4444444444444444,
              "#bd3786"
             ],
             [
              0.5555555555555556,
              "#d8576b"
             ],
             [
              0.6666666666666666,
              "#ed7953"
             ],
             [
              0.7777777777777778,
              "#fb9f3a"
             ],
             [
              0.8888888888888888,
              "#fdca26"
             ],
             [
              1,
              "#f0f921"
             ]
            ],
            "type": "contour"
           }
          ],
          "contourcarpet": [
           {
            "colorbar": {
             "outlinewidth": 0,
             "ticks": ""
            },
            "type": "contourcarpet"
           }
          ],
          "heatmap": [
           {
            "colorbar": {
             "outlinewidth": 0,
             "ticks": ""
            },
            "colorscale": [
             [
              0,
              "#0d0887"
             ],
             [
              0.1111111111111111,
              "#46039f"
             ],
             [
              0.2222222222222222,
              "#7201a8"
             ],
             [
              0.3333333333333333,
              "#9c179e"
             ],
             [
              0.4444444444444444,
              "#bd3786"
             ],
             [
              0.5555555555555556,
              "#d8576b"
             ],
             [
              0.6666666666666666,
              "#ed7953"
             ],
             [
              0.7777777777777778,
              "#fb9f3a"
             ],
             [
              0.8888888888888888,
              "#fdca26"
             ],
             [
              1,
              "#f0f921"
             ]
            ],
            "type": "heatmap"
           }
          ],
          "heatmapgl": [
           {
            "colorbar": {
             "outlinewidth": 0,
             "ticks": ""
            },
            "colorscale": [
             [
              0,
              "#0d0887"
             ],
             [
              0.1111111111111111,
              "#46039f"
             ],
             [
              0.2222222222222222,
              "#7201a8"
             ],
             [
              0.3333333333333333,
              "#9c179e"
             ],
             [
              0.4444444444444444,
              "#bd3786"
             ],
             [
              0.5555555555555556,
              "#d8576b"
             ],
             [
              0.6666666666666666,
              "#ed7953"
             ],
             [
              0.7777777777777778,
              "#fb9f3a"
             ],
             [
              0.8888888888888888,
              "#fdca26"
             ],
             [
              1,
              "#f0f921"
             ]
            ],
            "type": "heatmapgl"
           }
          ],
          "histogram": [
           {
            "marker": {
             "pattern": {
              "fillmode": "overlay",
              "size": 10,
              "solidity": 0.2
             }
            },
            "type": "histogram"
           }
          ],
          "histogram2d": [
           {
            "colorbar": {
             "outlinewidth": 0,
             "ticks": ""
            },
            "colorscale": [
             [
              0,
              "#0d0887"
             ],
             [
              0.1111111111111111,
              "#46039f"
             ],
             [
              0.2222222222222222,
              "#7201a8"
             ],
             [
              0.3333333333333333,
              "#9c179e"
             ],
             [
              0.4444444444444444,
              "#bd3786"
             ],
             [
              0.5555555555555556,
              "#d8576b"
             ],
             [
              0.6666666666666666,
              "#ed7953"
             ],
             [
              0.7777777777777778,
              "#fb9f3a"
             ],
             [
              0.8888888888888888,
              "#fdca26"
             ],
             [
              1,
              "#f0f921"
             ]
            ],
            "type": "histogram2d"
           }
          ],
          "histogram2dcontour": [
           {
            "colorbar": {
             "outlinewidth": 0,
             "ticks": ""
            },
            "colorscale": [
             [
              0,
              "#0d0887"
             ],
             [
              0.1111111111111111,
              "#46039f"
             ],
             [
              0.2222222222222222,
              "#7201a8"
             ],
             [
              0.3333333333333333,
              "#9c179e"
             ],
             [
              0.4444444444444444,
              "#bd3786"
             ],
             [
              0.5555555555555556,
              "#d8576b"
             ],
             [
              0.6666666666666666,
              "#ed7953"
             ],
             [
              0.7777777777777778,
              "#fb9f3a"
             ],
             [
              0.8888888888888888,
              "#fdca26"
             ],
             [
              1,
              "#f0f921"
             ]
            ],
            "type": "histogram2dcontour"
           }
          ],
          "mesh3d": [
           {
            "colorbar": {
             "outlinewidth": 0,
             "ticks": ""
            },
            "type": "mesh3d"
           }
          ],
          "parcoords": [
           {
            "line": {
             "colorbar": {
              "outlinewidth": 0,
              "ticks": ""
             }
            },
            "type": "parcoords"
           }
          ],
          "pie": [
           {
            "automargin": true,
            "type": "pie"
           }
          ],
          "scatter": [
           {
            "fillpattern": {
             "fillmode": "overlay",
             "size": 10,
             "solidity": 0.2
            },
            "type": "scatter"
           }
          ],
          "scatter3d": [
           {
            "line": {
             "colorbar": {
              "outlinewidth": 0,
              "ticks": ""
             }
            },
            "marker": {
             "colorbar": {
              "outlinewidth": 0,
              "ticks": ""
             }
            },
            "type": "scatter3d"
           }
          ],
          "scattercarpet": [
           {
            "marker": {
             "colorbar": {
              "outlinewidth": 0,
              "ticks": ""
             }
            },
            "type": "scattercarpet"
           }
          ],
          "scattergeo": [
           {
            "marker": {
             "colorbar": {
              "outlinewidth": 0,
              "ticks": ""
             }
            },
            "type": "scattergeo"
           }
          ],
          "scattergl": [
           {
            "marker": {
             "colorbar": {
              "outlinewidth": 0,
              "ticks": ""
             }
            },
            "type": "scattergl"
           }
          ],
          "scattermapbox": [
           {
            "marker": {
             "colorbar": {
              "outlinewidth": 0,
              "ticks": ""
             }
            },
            "type": "scattermapbox"
           }
          ],
          "scatterpolar": [
           {
            "marker": {
             "colorbar": {
              "outlinewidth": 0,
              "ticks": ""
             }
            },
            "type": "scatterpolar"
           }
          ],
          "scatterpolargl": [
           {
            "marker": {
             "colorbar": {
              "outlinewidth": 0,
              "ticks": ""
             }
            },
            "type": "scatterpolargl"
           }
          ],
          "scatterternary": [
           {
            "marker": {
             "colorbar": {
              "outlinewidth": 0,
              "ticks": ""
             }
            },
            "type": "scatterternary"
           }
          ],
          "surface": [
           {
            "colorbar": {
             "outlinewidth": 0,
             "ticks": ""
            },
            "colorscale": [
             [
              0,
              "#0d0887"
             ],
             [
              0.1111111111111111,
              "#46039f"
             ],
             [
              0.2222222222222222,
              "#7201a8"
             ],
             [
              0.3333333333333333,
              "#9c179e"
             ],
             [
              0.4444444444444444,
              "#bd3786"
             ],
             [
              0.5555555555555556,
              "#d8576b"
             ],
             [
              0.6666666666666666,
              "#ed7953"
             ],
             [
              0.7777777777777778,
              "#fb9f3a"
             ],
             [
              0.8888888888888888,
              "#fdca26"
             ],
             [
              1,
              "#f0f921"
             ]
            ],
            "type": "surface"
           }
          ],
          "table": [
           {
            "cells": {
             "fill": {
              "color": "#EBF0F8"
             },
             "line": {
              "color": "white"
             }
            },
            "header": {
             "fill": {
              "color": "#C8D4E3"
             },
             "line": {
              "color": "white"
             }
            },
            "type": "table"
           }
          ]
         },
         "layout": {
          "annotationdefaults": {
           "arrowcolor": "#2a3f5f",
           "arrowhead": 0,
           "arrowwidth": 1
          },
          "autotypenumbers": "strict",
          "coloraxis": {
           "colorbar": {
            "outlinewidth": 0,
            "ticks": ""
           }
          },
          "colorscale": {
           "diverging": [
            [
             0,
             "#8e0152"
            ],
            [
             0.1,
             "#c51b7d"
            ],
            [
             0.2,
             "#de77ae"
            ],
            [
             0.3,
             "#f1b6da"
            ],
            [
             0.4,
             "#fde0ef"
            ],
            [
             0.5,
             "#f7f7f7"
            ],
            [
             0.6,
             "#e6f5d0"
            ],
            [
             0.7,
             "#b8e186"
            ],
            [
             0.8,
             "#7fbc41"
            ],
            [
             0.9,
             "#4d9221"
            ],
            [
             1,
             "#276419"
            ]
           ],
           "sequential": [
            [
             0,
             "#0d0887"
            ],
            [
             0.1111111111111111,
             "#46039f"
            ],
            [
             0.2222222222222222,
             "#7201a8"
            ],
            [
             0.3333333333333333,
             "#9c179e"
            ],
            [
             0.4444444444444444,
             "#bd3786"
            ],
            [
             0.5555555555555556,
             "#d8576b"
            ],
            [
             0.6666666666666666,
             "#ed7953"
            ],
            [
             0.7777777777777778,
             "#fb9f3a"
            ],
            [
             0.8888888888888888,
             "#fdca26"
            ],
            [
             1,
             "#f0f921"
            ]
           ],
           "sequentialminus": [
            [
             0,
             "#0d0887"
            ],
            [
             0.1111111111111111,
             "#46039f"
            ],
            [
             0.2222222222222222,
             "#7201a8"
            ],
            [
             0.3333333333333333,
             "#9c179e"
            ],
            [
             0.4444444444444444,
             "#bd3786"
            ],
            [
             0.5555555555555556,
             "#d8576b"
            ],
            [
             0.6666666666666666,
             "#ed7953"
            ],
            [
             0.7777777777777778,
             "#fb9f3a"
            ],
            [
             0.8888888888888888,
             "#fdca26"
            ],
            [
             1,
             "#f0f921"
            ]
           ]
          },
          "colorway": [
           "#636efa",
           "#EF553B",
           "#00cc96",
           "#ab63fa",
           "#FFA15A",
           "#19d3f3",
           "#FF6692",
           "#B6E880",
           "#FF97FF",
           "#FECB52"
          ],
          "font": {
           "color": "#2a3f5f"
          },
          "geo": {
           "bgcolor": "white",
           "lakecolor": "white",
           "landcolor": "#E5ECF6",
           "showlakes": true,
           "showland": true,
           "subunitcolor": "white"
          },
          "hoverlabel": {
           "align": "left"
          },
          "hovermode": "closest",
          "mapbox": {
           "style": "light"
          },
          "paper_bgcolor": "white",
          "plot_bgcolor": "#E5ECF6",
          "polar": {
           "angularaxis": {
            "gridcolor": "white",
            "linecolor": "white",
            "ticks": ""
           },
           "bgcolor": "#E5ECF6",
           "radialaxis": {
            "gridcolor": "white",
            "linecolor": "white",
            "ticks": ""
           }
          },
          "scene": {
           "xaxis": {
            "backgroundcolor": "#E5ECF6",
            "gridcolor": "white",
            "gridwidth": 2,
            "linecolor": "white",
            "showbackground": true,
            "ticks": "",
            "zerolinecolor": "white"
           },
           "yaxis": {
            "backgroundcolor": "#E5ECF6",
            "gridcolor": "white",
            "gridwidth": 2,
            "linecolor": "white",
            "showbackground": true,
            "ticks": "",
            "zerolinecolor": "white"
           },
           "zaxis": {
            "backgroundcolor": "#E5ECF6",
            "gridcolor": "white",
            "gridwidth": 2,
            "linecolor": "white",
            "showbackground": true,
            "ticks": "",
            "zerolinecolor": "white"
           }
          },
          "shapedefaults": {
           "line": {
            "color": "#2a3f5f"
           }
          },
          "ternary": {
           "aaxis": {
            "gridcolor": "white",
            "linecolor": "white",
            "ticks": ""
           },
           "baxis": {
            "gridcolor": "white",
            "linecolor": "white",
            "ticks": ""
           },
           "bgcolor": "#E5ECF6",
           "caxis": {
            "gridcolor": "white",
            "linecolor": "white",
            "ticks": ""
           }
          },
          "title": {
           "x": 0.05
          },
          "xaxis": {
           "automargin": true,
           "gridcolor": "white",
           "linecolor": "white",
           "ticks": "",
           "title": {
            "standoff": 15
           },
           "zerolinecolor": "white",
           "zerolinewidth": 2
          },
          "yaxis": {
           "automargin": true,
           "gridcolor": "white",
           "linecolor": "white",
           "ticks": "",
           "title": {
            "standoff": 15
           },
           "zerolinecolor": "white",
           "zerolinewidth": 2
          }
         }
        },
        "xaxis": {
         "anchor": "y",
         "categoryarray": [
          "Africa",
          "Asia",
          "Caribbean",
          "Central America",
          "Europe",
          "North America",
          "Northern America",
          "Oceania",
          "South America"
         ],
         "categoryorder": "array",
         "domain": [
          0,
          1
         ],
         "title": {
          "text": "geographical_region"
         }
        },
        "yaxis": {
         "anchor": "x",
         "domain": [
          0,
          1
         ],
         "title": {
          "text": "average_salary"
         }
        }
       }
      }
     },
     "metadata": {},
     "output_type": "display_data"
    }
   ],
   "source": [
    "fig = px.scatter(region_salary, x=\"geographical_region\", y=\"average_salary\", color=\"geographical_region\", size=\"average_salary\", an)\n",
    "fig.show()"
   ]
  },
  {
   "cell_type": "code",
   "execution_count": 56,
   "metadata": {},
   "outputs": [],
   "source": [
    "world_salary['years'] = np.random.randint(2000, 2023, size=len(world_salary))\n"
   ]
  },
  {
   "cell_type": "markdown",
   "metadata": {},
   "source": [
    "### Trying out animations for fun"
   ]
  },
  {
   "cell_type": "code",
   "execution_count": 61,
   "metadata": {},
   "outputs": [
    {
     "data": {
      "application/vnd.plotly.v1+json": {
       "config": {
        "plotlyServerURL": "https://plot.ly"
       },
       "data": [
        {
         "hovertemplate": "<b>%{hovertext}</b><br><br>years=2014<br>geographical_region=%{x}<br>average_salary=%{marker.size}<br>median_salary=%{marker.color}<extra></extra>",
         "hovertext": [
          "Asia",
          "Oceania",
          "Europe",
          "Europe",
          "Africa",
          "Africa",
          "Europe",
          "Africa"
         ],
         "ids": [
          "Asia",
          "Oceania",
          "Europe",
          "Europe",
          "Africa",
          "Africa",
          "Europe",
          "Africa"
         ],
         "legendgroup": "",
         "marker": {
          "color": [
           853.74,
           1133.75,
           4661.2,
           5817.07,
           549.81,
           821.41,
           4756.87,
           1088.33
          ],
          "coloraxis": "coloraxis",
          "size": [
           1001.15,
           1293.18,
           5049.03,
           6304.88,
           631.27,
           927.4,
           5179.7,
           1239.75
          ],
          "sizemode": "area",
          "sizeref": 3.733190082644628,
          "symbol": "circle"
         },
         "mode": "markers",
         "name": "",
         "orientation": "v",
         "showlegend": false,
         "type": "scatter",
         "x": [
          "Asia",
          "Oceania",
          "Europe",
          "Europe",
          "Africa",
          "Africa",
          "Europe",
          "Africa"
         ],
         "xaxis": "x",
         "y": [
          1001.15,
          1293.18,
          5049.03,
          6304.88,
          631.27,
          927.4,
          5179.7,
          1239.75
         ],
         "yaxis": "y"
        }
       ],
       "frames": [
        {
         "data": [
          {
           "hovertemplate": "<b>%{hovertext}</b><br><br>years=2014<br>geographical_region=%{x}<br>average_salary=%{marker.size}<br>median_salary=%{marker.color}<extra></extra>",
           "hovertext": [
            "Asia",
            "Oceania",
            "Europe",
            "Europe",
            "Africa",
            "Africa",
            "Europe",
            "Africa"
           ],
           "ids": [
            "Asia",
            "Oceania",
            "Europe",
            "Europe",
            "Africa",
            "Africa",
            "Europe",
            "Africa"
           ],
           "legendgroup": "",
           "marker": {
            "color": [
             853.74,
             1133.75,
             4661.2,
             5817.07,
             549.81,
             821.41,
             4756.87,
             1088.33
            ],
            "coloraxis": "coloraxis",
            "size": [
             1001.15,
             1293.18,
             5049.03,
             6304.88,
             631.27,
             927.4,
             5179.7,
             1239.75
            ],
            "sizemode": "area",
            "sizeref": 3.733190082644628,
            "symbol": "circle"
           },
           "mode": "markers",
           "name": "",
           "orientation": "v",
           "showlegend": false,
           "type": "scatter",
           "x": [
            "Asia",
            "Oceania",
            "Europe",
            "Europe",
            "Africa",
            "Africa",
            "Europe",
            "Africa"
           ],
           "xaxis": "x",
           "y": [
            1001.15,
            1293.18,
            5049.03,
            6304.88,
            631.27,
            927.4,
            5179.7,
            1239.75
           ],
           "yaxis": "y"
          }
         ],
         "name": "2014"
        },
        {
         "data": [
          {
           "hovertemplate": "<b>%{hovertext}</b><br><br>years=2020<br>geographical_region=%{x}<br>average_salary=%{marker.size}<br>median_salary=%{marker.color}<extra></extra>",
           "hovertext": [
            "Europe",
            "Europe",
            "Asia",
            "South America",
            "Africa",
            "Africa",
            "Africa",
            "Caribbean",
            "Europe",
            "Europe",
            "Asia",
            "Africa",
            "Asia"
           ],
           "ids": [
            "Europe",
            "Europe",
            "Asia",
            "South America",
            "Africa",
            "Africa",
            "Africa",
            "Caribbean",
            "Europe",
            "Europe",
            "Asia",
            "Africa",
            "Asia"
           ],
           "legendgroup": "",
           "marker": {
            "color": [
             3319.24,
             3572.94,
             218.57,
             1490.04,
             143.88,
             800.85,
             223.7,
             2066.67,
             8689.02,
             677,
             228.46,
             480.19,
             120.98
            ],
            "coloraxis": "coloraxis",
            "size": [
             3858.35,
             4016.91,
             236.71,
             1711.16,
             160.41,
             894.31,
             246.84,
             2329.63,
             9409.76,
             794.14,
             260.35,
             547.87,
             133.36
            ],
            "sizemode": "area",
            "sizeref": 3.733190082644628,
            "symbol": "circle"
           },
           "mode": "markers",
           "name": "",
           "orientation": "v",
           "showlegend": false,
           "type": "scatter",
           "x": [
            "Europe",
            "Europe",
            "Asia",
            "South America",
            "Africa",
            "Africa",
            "Africa",
            "Caribbean",
            "Europe",
            "Europe",
            "Asia",
            "Africa",
            "Asia"
           ],
           "xaxis": "x",
           "y": [
            3858.35,
            4016.91,
            236.71,
            1711.16,
            160.41,
            894.31,
            246.84,
            2329.63,
            9409.76,
            794.14,
            260.35,
            547.87,
            133.36
           ],
           "yaxis": "y"
          }
         ],
         "name": "2020"
        },
        {
         "data": [
          {
           "hovertemplate": "<b>%{hovertext}</b><br><br>years=2003<br>geographical_region=%{x}<br>average_salary=%{marker.size}<br>median_salary=%{marker.color}<extra></extra>",
           "hovertext": [
            "Europe",
            "Europe",
            "Europe",
            "Africa",
            "Europe",
            "Europe",
            "Oceania",
            "Europe",
            "North America",
            "Europe"
           ],
           "ids": [
            "Europe",
            "Europe",
            "Europe",
            "Africa",
            "Europe",
            "Europe",
            "Oceania",
            "Europe",
            "North America",
            "Europe"
           ],
           "legendgroup": "",
           "marker": {
            "color": [
             832.84,
             5729.39,
             1151.35,
             485.02,
             4238.9,
             3567.07,
             4196.41,
             2537,
             3086.68,
             1120.04
            ],
            "coloraxis": "coloraxis",
            "size": [
             956.92,
             6522.2,
             1248.65,
             534.97,
             4978.86,
             4135.37,
             4870.06,
             2917.55,
             3477.8,
             1273.6
            ],
            "sizemode": "area",
            "sizeref": 3.733190082644628,
            "symbol": "circle"
           },
           "mode": "markers",
           "name": "",
           "orientation": "v",
           "showlegend": false,
           "type": "scatter",
           "x": [
            "Europe",
            "Europe",
            "Europe",
            "Africa",
            "Europe",
            "Europe",
            "Oceania",
            "Europe",
            "North America",
            "Europe"
           ],
           "xaxis": "x",
           "y": [
            956.92,
            6522.2,
            1248.65,
            534.97,
            4978.86,
            4135.37,
            4870.06,
            2917.55,
            3477.8,
            1273.6
           ],
           "yaxis": "y"
          }
         ],
         "name": "2003"
        },
        {
         "data": [
          {
           "hovertemplate": "<b>%{hovertext}</b><br><br>years=2004<br>geographical_region=%{x}<br>average_salary=%{marker.size}<br>median_salary=%{marker.color}<extra></extra>",
           "hovertext": [
            "Africa",
            "Oceania",
            "Europe",
            "Europe",
            "Asia"
           ],
           "ids": [
            "Africa",
            "Oceania",
            "Europe",
            "Europe",
            "Asia"
           ],
           "legendgroup": "",
           "marker": {
            "color": [
             1148.84,
             2206.45,
             4112.05,
             4450.32,
             3571.43
            ],
            "coloraxis": "coloraxis",
            "size": [
             1308.81,
             2509.68,
             4492.6,
             4820.3,
             4037.27
            ],
            "sizemode": "area",
            "sizeref": 3.733190082644628,
            "symbol": "circle"
           },
           "mode": "markers",
           "name": "",
           "orientation": "v",
           "showlegend": false,
           "type": "scatter",
           "x": [
            "Africa",
            "Oceania",
            "Europe",
            "Europe",
            "Asia"
           ],
           "xaxis": "x",
           "y": [
            1308.81,
            2509.68,
            4492.6,
            4820.3,
            4037.27
           ],
           "yaxis": "y"
          }
         ],
         "name": "2004"
        },
        {
         "data": [
          {
           "hovertemplate": "<b>%{hovertext}</b><br><br>years=2013<br>geographical_region=%{x}<br>average_salary=%{marker.size}<br>median_salary=%{marker.color}<extra></extra>",
           "hovertext": [
            "Oceania",
            "South America",
            "Europe",
            "Africa",
            "Caribbean",
            "Africa",
            "Oceania",
            "Africa",
            "Africa",
            "Oceania",
            "Africa",
            "Caribbean"
           ],
           "ids": [
            "Oceania",
            "South America",
            "Europe",
            "Africa",
            "Caribbean",
            "Africa",
            "Oceania",
            "Africa",
            "Africa",
            "Oceania",
            "Africa",
            "Caribbean"
           ],
           "legendgroup": "",
           "marker": {
            "color": [
             1390,
             1131.5,
             3769.56,
             250.87,
             2949.26,
             389.85,
             2380,
             1966.17,
             254.88163,
             644.89,
             392.16,
             1258.11
            ],
            "coloraxis": "coloraxis",
            "size": [
             1570,
             1236.99,
             4377.38,
             290.48,
             3192.39,
             438.91,
             2740,
             2198.73,
             298.78264,
             756.53,
             455.19,
             1445.43
            ],
            "sizemode": "area",
            "sizeref": 3.733190082644628,
            "symbol": "circle"
           },
           "mode": "markers",
           "name": "",
           "orientation": "v",
           "showlegend": false,
           "type": "scatter",
           "x": [
            "Oceania",
            "South America",
            "Europe",
            "Africa",
            "Caribbean",
            "Africa",
            "Oceania",
            "Africa",
            "Africa",
            "Oceania",
            "Africa",
            "Caribbean"
           ],
           "xaxis": "x",
           "y": [
            1570,
            1236.99,
            4377.38,
            290.48,
            3192.39,
            438.91,
            2740,
            2198.73,
            298.78264,
            756.53,
            455.19,
            1445.43
           ],
           "yaxis": "y"
          }
         ],
         "name": "2013"
        },
        {
         "data": [
          {
           "hovertemplate": "<b>%{hovertext}</b><br><br>years=2011<br>geographical_region=%{x}<br>average_salary=%{marker.size}<br>median_salary=%{marker.color}<extra></extra>",
           "hovertext": [
            "Europe",
            "Oceania",
            "Asia",
            "Africa",
            "Europe",
            "Central America",
            "North America",
            "Caribbean",
            "Europe"
           ],
           "ids": [
            "Europe",
            "Oceania",
            "Asia",
            "Africa",
            "Europe",
            "Central America",
            "North America",
            "Caribbean",
            "Europe"
           ],
           "legendgroup": "",
           "marker": {
            "color": [
             3668.08,
             4306.45,
             745.19,
             417.18,
             903.87466,
             1681.97,
             2268.16,
             1144.44,
             1934.46
            ],
            "coloraxis": "coloraxis",
            "size": [
             4069.77,
             4903.23,
             808.3,
             470.35,
             997.90189,
             1917.34,
             2458.1,
             1262.96,
             2093.02
            ],
            "sizemode": "area",
            "sizeref": 3.733190082644628,
            "symbol": "circle"
           },
           "mode": "markers",
           "name": "",
           "orientation": "v",
           "showlegend": false,
           "type": "scatter",
           "x": [
            "Europe",
            "Oceania",
            "Asia",
            "Africa",
            "Europe",
            "Central America",
            "North America",
            "Caribbean",
            "Europe"
           ],
           "xaxis": "x",
           "y": [
            4069.77,
            4903.23,
            808.3,
            470.35,
            997.90189,
            1917.34,
            2458.1,
            1262.96,
            2093.02
           ],
           "yaxis": "y"
          }
         ],
         "name": "2011"
        },
        {
         "data": [
          {
           "hovertemplate": "<b>%{hovertext}</b><br><br>years=2019<br>geographical_region=%{x}<br>average_salary=%{marker.size}<br>median_salary=%{marker.color}<extra></extra>",
           "hovertext": [
            "Africa",
            "Caribbean",
            "Africa",
            "Caribbean",
            "Europe",
            "Oceania",
            "Africa",
            "Europe",
            "Asia",
            "North America"
           ],
           "ids": [
            "Africa",
            "Caribbean",
            "Africa",
            "Caribbean",
            "Europe",
            "Oceania",
            "Africa",
            "Europe",
            "Asia",
            "North America"
           ],
           "legendgroup": "",
           "marker": {
            "color": [
             284.39,
             3430.97,
             707.39,
             318.89,
             3484.42,
             1820,
             493.08,
             2114.16,
             249.68,
             1350
            ],
            "coloraxis": "coloraxis",
            "size": [
             314.39,
             3901.56,
             787.96,
             350.6,
             3810.2,
             1990,
             565.59,
             2315.01,
             278.41,
             1490
            ],
            "sizemode": "area",
            "sizeref": 3.733190082644628,
            "symbol": "circle"
           },
           "mode": "markers",
           "name": "",
           "orientation": "v",
           "showlegend": false,
           "type": "scatter",
           "x": [
            "Africa",
            "Caribbean",
            "Africa",
            "Caribbean",
            "Europe",
            "Oceania",
            "Africa",
            "Europe",
            "Asia",
            "North America"
           ],
           "xaxis": "x",
           "y": [
            314.39,
            3901.56,
            787.96,
            350.6,
            3810.2,
            1990,
            565.59,
            2315.01,
            278.41,
            1490
           ],
           "yaxis": "y"
          }
         ],
         "name": "2019"
        },
        {
         "data": [
          {
           "hovertemplate": "<b>%{hovertext}</b><br><br>years=2021<br>geographical_region=%{x}<br>average_salary=%{marker.size}<br>median_salary=%{marker.color}<extra></extra>",
           "hovertext": [
            "Caribbean",
            "Europe",
            "Northern America",
            "Asia",
            "Africa",
            "Oceania",
            "Asia",
            "Asia",
            "Europe",
            "Northern America",
            "Asia"
           ],
           "ids": [
            "Caribbean",
            "Europe",
            "Northern America",
            "Asia",
            "Africa",
            "Oceania",
            "Asia",
            "Asia",
            "Europe",
            "Northern America",
            "Asia"
           ],
           "legendgroup": "",
           "marker": {
            "color": [
             1548.15,
             1976.74,
             3526.91,
             701,
             334.39,
             1250,
             728.78,
             3840,
             2579.28,
             6966,
             612.57
            ],
            "coloraxis": "coloraxis",
            "size": [
             1677.78,
             2293.87,
             4008.5,
             813.99,
             380.35,
             1410,
             790.54,
             4480,
             2875.26,
             7925,
             711.24
            ],
            "sizemode": "area",
            "sizeref": 3.733190082644628,
            "symbol": "circle"
           },
           "mode": "markers",
           "name": "",
           "orientation": "v",
           "showlegend": false,
           "type": "scatter",
           "x": [
            "Caribbean",
            "Europe",
            "Northern America",
            "Asia",
            "Africa",
            "Oceania",
            "Asia",
            "Asia",
            "Europe",
            "Northern America",
            "Asia"
           ],
           "xaxis": "x",
           "y": [
            1677.78,
            2293.87,
            4008.5,
            813.99,
            380.35,
            1410,
            790.54,
            4480,
            2875.26,
            7925,
            711.24
           ],
           "yaxis": "y"
          }
         ],
         "name": "2021"
        },
        {
         "data": [
          {
           "hovertemplate": "<b>%{hovertext}</b><br><br>years=2015<br>geographical_region=%{x}<br>average_salary=%{marker.size}<br>median_salary=%{marker.color}<extra></extra>",
           "hovertext": [
            "South America",
            "Africa",
            "Asia",
            "South America",
            "Asia",
            "Asia",
            "South America",
            "Europe",
            "Africa",
            "Asia",
            "Africa"
           ],
           "ids": [
            "South America",
            "Africa",
            "Asia",
            "South America",
            "Asia",
            "Asia",
            "South America",
            "Europe",
            "Africa",
            "Asia",
            "Africa"
           ],
           "legendgroup": "",
           "marker": {
            "color": [
             110.28,
             729.39,
             2030,
             731.32,
             4252.87,
             2593.42,
             1825.86,
             1496.57,
             787.96,
             254.1,
             645.21
            ],
            "coloraxis": "coloraxis",
            "size": [
             129.42,
             860.69,
             2220,
             841.26,
             4687.1,
             2889.81,
             1997.36,
             1736.84,
             852.41,
             286.13,
             698.31
            ],
            "sizemode": "area",
            "sizeref": 3.733190082644628,
            "symbol": "circle"
           },
           "mode": "markers",
           "name": "",
           "orientation": "v",
           "showlegend": false,
           "type": "scatter",
           "x": [
            "South America",
            "Africa",
            "Asia",
            "South America",
            "Asia",
            "Asia",
            "South America",
            "Europe",
            "Africa",
            "Asia",
            "Africa"
           ],
           "xaxis": "x",
           "y": [
            129.42,
            860.69,
            2220,
            841.26,
            4687.1,
            2889.81,
            1997.36,
            1736.84,
            852.41,
            286.13,
            698.31
           ],
           "yaxis": "y"
          }
         ],
         "name": "2015"
        },
        {
         "data": [
          {
           "hovertemplate": "<b>%{hovertext}</b><br><br>years=2010<br>geographical_region=%{x}<br>average_salary=%{marker.size}<br>median_salary=%{marker.color}<extra></extra>",
           "hovertext": [
            "Asia",
            "Central America",
            "Asia",
            "Asia",
            "Asia",
            "Africa",
            "Africa",
            "Europe",
            "South America",
            "Africa",
            "North America"
           ],
           "ids": [
            "Asia",
            "Central America",
            "Asia",
            "Asia",
            "Asia",
            "Africa",
            "Africa",
            "Europe",
            "South America",
            "Africa",
            "North America"
           ],
           "legendgroup": "",
           "marker": {
            "color": [
             1700.25,
             1022.22,
             678.91,
             1382.38,
             192.22575,
             132.38,
             44.623043,
             4420.02,
             1019.69,
             457.77,
             1600
            ],
            "coloraxis": "coloraxis",
            "size": [
             1974.32,
             1139.39,
             788.83,
             1573.31,
             216.67064,
             151.69,
             52.497697,
             4786.34,
             1126.17,
             505.54,
             1840
            ],
            "sizemode": "area",
            "sizeref": 3.733190082644628,
            "symbol": "circle"
           },
           "mode": "markers",
           "name": "",
           "orientation": "v",
           "showlegend": false,
           "type": "scatter",
           "x": [
            "Asia",
            "Central America",
            "Asia",
            "Asia",
            "Asia",
            "Africa",
            "Africa",
            "Europe",
            "South America",
            "Africa",
            "North America"
           ],
           "xaxis": "x",
           "y": [
            1974.32,
            1139.39,
            788.83,
            1573.31,
            216.67064,
            151.69,
            52.497697,
            4786.34,
            1126.17,
            505.54,
            1840
           ],
           "yaxis": "y"
          }
         ],
         "name": "2010"
        },
        {
         "data": [
          {
           "hovertemplate": "<b>%{hovertext}</b><br><br>years=2016<br>geographical_region=%{x}<br>average_salary=%{marker.size}<br>median_salary=%{marker.color}<extra></extra>",
           "hovertext": [
            "Caribbean",
            "Asia",
            "Caribbean",
            "Asia",
            "Oceania",
            "Oceania",
            "Africa",
            "Asia",
            "Asia"
           ],
           "ids": [
            "Caribbean",
            "Asia",
            "Caribbean",
            "Asia",
            "Oceania",
            "Oceania",
            "Africa",
            "Asia",
            "Asia"
           ],
           "legendgroup": "",
           "marker": {
            "color": [
             1106.15,
             1558.82,
             565.78,
             1099.61,
             2070,
             808.66,
             249.1,
             5647.06,
             2432.28
            ],
            "coloraxis": "coloraxis",
            "size": [
             1268.16,
             1741.18,
             624.56,
             1241.91,
             2260,
             884.48,
             277.75,
             6235.29,
             2662.11
            ],
            "sizemode": "area",
            "sizeref": 3.733190082644628,
            "symbol": "circle"
           },
           "mode": "markers",
           "name": "",
           "orientation": "v",
           "showlegend": false,
           "type": "scatter",
           "x": [
            "Caribbean",
            "Asia",
            "Caribbean",
            "Asia",
            "Oceania",
            "Oceania",
            "Africa",
            "Asia",
            "Asia"
           ],
           "xaxis": "x",
           "y": [
            1268.16,
            1741.18,
            624.56,
            1241.91,
            2260,
            884.48,
            277.75,
            6235.29,
            2662.11
           ],
           "yaxis": "y"
          }
         ],
         "name": "2016"
        },
        {
         "data": [
          {
           "hovertemplate": "<b>%{hovertext}</b><br><br>years=2012<br>geographical_region=%{x}<br>average_salary=%{marker.size}<br>median_salary=%{marker.color}<extra></extra>",
           "hovertext": [
            "North America",
            "Africa",
            "Europe",
            "Europe",
            "Asia",
            "Asia",
            "Europe",
            "Caribbean",
            "Africa",
            "Africa"
           ],
           "ids": [
            "North America",
            "Africa",
            "Europe",
            "Europe",
            "Asia",
            "Asia",
            "Europe",
            "Caribbean",
            "Africa",
            "Africa"
           ],
           "legendgroup": "",
           "marker": {
            "color": [
             3541,
             497.91,
             5084.99,
             5224.04,
             856.26,
             1236.17,
             2621.56,
             922.22,
             0.26133504,
             555.40204
            ],
            "coloraxis": "coloraxis",
            "size": [
             3908,
             544.64,
             5779.04,
             5825.14,
             928.13,
             1406.38,
             2832.98,
             1048.15,
             0.28552394,
             602.37635
            ],
            "sizemode": "area",
            "sizeref": 3.733190082644628,
            "symbol": "circle"
           },
           "mode": "markers",
           "name": "",
           "orientation": "v",
           "showlegend": false,
           "type": "scatter",
           "x": [
            "North America",
            "Africa",
            "Europe",
            "Europe",
            "Asia",
            "Asia",
            "Europe",
            "Caribbean",
            "Africa",
            "Africa"
           ],
           "xaxis": "x",
           "y": [
            3908,
            544.64,
            5779.04,
            5825.14,
            928.13,
            1406.38,
            2832.98,
            1048.15,
            0.28552394,
            602.37635
           ],
           "yaxis": "y"
          }
         ],
         "name": "2012"
        },
        {
         "data": [
          {
           "hovertemplate": "<b>%{hovertext}</b><br><br>years=2002<br>geographical_region=%{x}<br>average_salary=%{marker.size}<br>median_salary=%{marker.color}<extra></extra>",
           "hovertext": [
            "Asia",
            "Europe",
            "Central America",
            "Africa",
            "Caribbean",
            "Asia",
            "Africa",
            "Oceania",
            "Central America",
            "Asia",
            "Central America",
            "Asia",
            "South America"
           ],
           "ids": [
            "Asia",
            "Europe",
            "Central America",
            "Africa",
            "Caribbean",
            "Asia",
            "Africa",
            "Oceania",
            "Central America",
            "Asia",
            "Central America",
            "Asia",
            "South America"
           ],
           "legendgroup": "",
           "marker": {
            "color": [
             3617.02,
             1605.41,
             1470,
             402,
             3985.2,
             753.33,
             478.58,
             664.3,
             449.1,
             3932.29,
             1890,
             1342.86,
             3282.02
            ],
            "coloraxis": "coloraxis",
            "size": [
             3936.17,
             1794.59,
             1710,
             457.33,
             4439.75,
             873.33,
             533.36,
             779.45,
             517.15,
             4635.42,
             2130,
             1500,
             3862.91
            ],
            "sizemode": "area",
            "sizeref": 3.733190082644628,
            "symbol": "circle"
           },
           "mode": "markers",
           "name": "",
           "orientation": "v",
           "showlegend": false,
           "type": "scatter",
           "x": [
            "Asia",
            "Europe",
            "Central America",
            "Africa",
            "Caribbean",
            "Asia",
            "Africa",
            "Oceania",
            "Central America",
            "Asia",
            "Central America",
            "Asia",
            "South America"
           ],
           "xaxis": "x",
           "y": [
            3936.17,
            1794.59,
            1710,
            457.33,
            4439.75,
            873.33,
            533.36,
            779.45,
            517.15,
            4635.42,
            2130,
            1500,
            3862.91
           ],
           "yaxis": "y"
          }
         ],
         "name": "2002"
        },
        {
         "data": [
          {
           "hovertemplate": "<b>%{hovertext}</b><br><br>years=2017<br>geographical_region=%{x}<br>average_salary=%{marker.size}<br>median_salary=%{marker.color}<extra></extra>",
           "hovertext": [
            "Caribbean",
            "Northern America",
            "South America",
            "Europe",
            "Asia",
            "Africa"
           ],
           "ids": [
            "Caribbean",
            "Northern America",
            "South America",
            "Europe",
            "Asia",
            "Africa"
           ],
           "legendgroup": "",
           "marker": {
            "color": [
             1395,
             6311.03,
             1260,
             1227.46,
             3158.67,
             525.39
            ],
            "coloraxis": "coloraxis",
            "size": [
             1635,
             7352.94,
             1370,
             1344.23,
             3453.12,
             569.65
            ],
            "sizemode": "area",
            "sizeref": 3.733190082644628,
            "symbol": "circle"
           },
           "mode": "markers",
           "name": "",
           "orientation": "v",
           "showlegend": false,
           "type": "scatter",
           "x": [
            "Caribbean",
            "Northern America",
            "South America",
            "Europe",
            "Asia",
            "Africa"
           ],
           "xaxis": "x",
           "y": [
            1635,
            7352.94,
            1370,
            1344.23,
            3453.12,
            569.65
           ],
           "yaxis": "y"
          }
         ],
         "name": "2017"
        },
        {
         "data": [
          {
           "hovertemplate": "<b>%{hovertext}</b><br><br>years=2005<br>geographical_region=%{x}<br>average_salary=%{marker.size}<br>median_salary=%{marker.color}<extra></extra>",
           "hovertext": [
            "Europe",
            "Africa",
            "Asia",
            "Caribbean",
            "Africa",
            "Africa",
            "Oceania",
            "Asia",
            "Oceania",
            "Asia",
            "Europe",
            "Europe",
            "Asia",
            "Europe"
           ],
           "ids": [
            "Europe",
            "Africa",
            "Asia",
            "Caribbean",
            "Africa",
            "Africa",
            "Oceania",
            "Asia",
            "Oceania",
            "Asia",
            "Europe",
            "Europe",
            "Asia",
            "Europe"
           ],
           "legendgroup": "",
           "marker": {
            "color": [
             849.5,
             1706.29,
             3684.93,
             783.33,
             254.53,
             671.94,
             1939.13,
             1510,
             1010.96,
             3846.15,
             3568.16,
             9836.07,
             10.12,
             6300
            ],
            "coloraxis": "coloraxis",
            "size": [
             983.28,
             1965.11,
             4027.4,
             916.67,
             298.51,
             773.46,
             2100,
             1710,
             1128.77,
             4313.19,
             4144.56,
             11292.9,
             11.51,
             7235.37
            ],
            "sizemode": "area",
            "sizeref": 3.733190082644628,
            "symbol": "circle"
           },
           "mode": "markers",
           "name": "",
           "orientation": "v",
           "showlegend": false,
           "type": "scatter",
           "x": [
            "Europe",
            "Africa",
            "Asia",
            "Caribbean",
            "Africa",
            "Africa",
            "Oceania",
            "Asia",
            "Oceania",
            "Asia",
            "Europe",
            "Europe",
            "Asia",
            "Europe"
           ],
           "xaxis": "x",
           "y": [
            983.28,
            1965.11,
            4027.4,
            916.67,
            298.51,
            773.46,
            2100,
            1710,
            1128.77,
            4313.19,
            4144.56,
            11292.9,
            11.51,
            7235.37
           ],
           "yaxis": "y"
          }
         ],
         "name": "2005"
        },
        {
         "data": [
          {
           "hovertemplate": "<b>%{hovertext}</b><br><br>years=2022<br>geographical_region=%{x}<br>average_salary=%{marker.size}<br>median_salary=%{marker.color}<extra></extra>",
           "hovertext": [
            "Central America",
            "Asia",
            "South America",
            "Africa",
            "Europe",
            "South America",
            "Asia",
            "Africa",
            "Caribbean",
            "Asia",
            "Oceania",
            "Africa"
           ],
           "ids": [
            "Central America",
            "Asia",
            "South America",
            "Africa",
            "Europe",
            "South America",
            "Asia",
            "Africa",
            "Caribbean",
            "Asia",
            "Oceania",
            "Africa"
           ],
           "legendgroup": "",
           "marker": {
            "color": [
             1730,
             407.26,
             995.6,
             1378.57,
             2579.28,
             2896.41,
             1946.4,
             540.54,
             1092.59,
             97.25,
             750.74,
             908.56
            ],
            "coloraxis": "coloraxis",
            "size": [
             1965,
             449.3,
             1157.85,
             1553,
             2906.98,
             3319.24,
             2284.91,
             625.33,
             1259.26,
             106.98,
             821.77,
             1011.67
            ],
            "sizemode": "area",
            "sizeref": 3.733190082644628,
            "symbol": "circle"
           },
           "mode": "markers",
           "name": "",
           "orientation": "v",
           "showlegend": false,
           "type": "scatter",
           "x": [
            "Central America",
            "Asia",
            "South America",
            "Africa",
            "Europe",
            "South America",
            "Asia",
            "Africa",
            "Caribbean",
            "Asia",
            "Oceania",
            "Africa"
           ],
           "xaxis": "x",
           "y": [
            1965,
            449.3,
            1157.85,
            1553,
            2906.98,
            3319.24,
            2284.91,
            625.33,
            1259.26,
            106.98,
            821.77,
            1011.67
           ],
           "yaxis": "y"
          }
         ],
         "name": "2022"
        },
        {
         "data": [
          {
           "hovertemplate": "<b>%{hovertext}</b><br><br>years=2009<br>geographical_region=%{x}<br>average_salary=%{marker.size}<br>median_salary=%{marker.color}<extra></extra>",
           "hovertext": [
            "Africa",
            "Africa",
            "Africa",
            "Central America",
            "Europe",
            "Asia",
            "Caribbean",
            "Africa"
           ],
           "ids": [
            "Africa",
            "Africa",
            "Africa",
            "Central America",
            "Europe",
            "Asia",
            "Caribbean",
            "Africa"
           ],
           "legendgroup": "",
           "marker": {
            "color": [
             488.25,
             2360,
             621.99,
             4016.06,
             2241.01,
             327.97,
             859.26,
             1246.44
            ],
            "coloraxis": "coloraxis",
            "size": [
             549.48,
             2690,
             699.33,
             4427.01,
             2579.28,
             384.43,
             1011.11,
             1403.13
            ],
            "sizemode": "area",
            "sizeref": 3.733190082644628,
            "symbol": "circle"
           },
           "mode": "markers",
           "name": "",
           "orientation": "v",
           "showlegend": false,
           "type": "scatter",
           "x": [
            "Africa",
            "Africa",
            "Africa",
            "Central America",
            "Europe",
            "Asia",
            "Caribbean",
            "Africa"
           ],
           "xaxis": "x",
           "y": [
            549.48,
            2690,
            699.33,
            4427.01,
            2579.28,
            384.43,
            1011.11,
            1403.13
           ],
           "yaxis": "y"
          }
         ],
         "name": "2009"
        },
        {
         "data": [
          {
           "hovertemplate": "<b>%{hovertext}</b><br><br>years=2006<br>geographical_region=%{x}<br>average_salary=%{marker.size}<br>median_salary=%{marker.color}<extra></extra>",
           "hovertext": [
            "Northern America",
            "Africa",
            "Europe",
            "Europe",
            "Caribbean",
            "Africa",
            "Africa",
            "Asia",
            "Europe",
            "Africa",
            "Africa",
            "Africa"
           ],
           "ids": [
            "Northern America",
            "Africa",
            "Europe",
            "Europe",
            "Caribbean",
            "Africa",
            "Africa",
            "Asia",
            "Europe",
            "Africa",
            "Africa",
            "Africa"
           ],
           "legendgroup": "",
           "marker": {
            "color": [
             1440,
             1058.67,
             1935.48,
             2310.03,
             496.3,
             475.35,
             2389.01,
             515.76,
             975.51,
             1441.44,
             67.61,
             204.56
            ],
            "coloraxis": "coloraxis",
            "size": [
             1600,
             1205.3,
             2089.76,
             2653.06,
             555.56,
             551.09,
             2748.41,
             564.74,
             1065.68,
             1658.72,
             74.53,
             239.53
            ],
            "sizemode": "area",
            "sizeref": 3.733190082644628,
            "symbol": "circle"
           },
           "mode": "markers",
           "name": "",
           "orientation": "v",
           "showlegend": false,
           "type": "scatter",
           "x": [
            "Northern America",
            "Africa",
            "Europe",
            "Europe",
            "Caribbean",
            "Africa",
            "Africa",
            "Asia",
            "Europe",
            "Africa",
            "Africa",
            "Africa"
           ],
           "xaxis": "x",
           "y": [
            1600,
            1205.3,
            2089.76,
            2653.06,
            555.56,
            551.09,
            2748.41,
            564.74,
            1065.68,
            1658.72,
            74.53,
            239.53
           ],
           "yaxis": "y"
          }
         ],
         "name": "2006"
        },
        {
         "data": [
          {
           "hovertemplate": "<b>%{hovertext}</b><br><br>years=2001<br>geographical_region=%{x}<br>average_salary=%{marker.size}<br>median_salary=%{marker.color}<extra></extra>",
           "hovertext": [
            "Asia",
            "Africa",
            "Africa",
            "Oceania",
            "Europe",
            "Africa",
            "Europe",
            "Asia",
            "Europe",
            "Africa",
            "Europe",
            "Europe"
           ],
           "ids": [
            "Asia",
            "Africa",
            "Africa",
            "Oceania",
            "Europe",
            "Africa",
            "Europe",
            "Asia",
            "Europe",
            "Africa",
            "Europe",
            "Europe"
           ],
           "legendgroup": "",
           "marker": {
            "color": [
             2110.29,
             384.78,
             633.27,
             2538.92,
             3731.5,
             373.82,
             3467.23,
             206.42,
             1654.0727,
             901.53,
             1318.68,
             1739.87
            ],
            "coloraxis": "coloraxis",
            "size": [
             2375,
             420.08,
             744.45,
             2832.34,
             4048.63,
             438.42,
             3868.92,
             223.54,
             1952.1038,
             1047.66,
             1467.03,
             1921.11
            ],
            "sizemode": "area",
            "sizeref": 3.733190082644628,
            "symbol": "circle"
           },
           "mode": "markers",
           "name": "",
           "orientation": "v",
           "showlegend": false,
           "type": "scatter",
           "x": [
            "Asia",
            "Africa",
            "Africa",
            "Oceania",
            "Europe",
            "Africa",
            "Europe",
            "Asia",
            "Europe",
            "Africa",
            "Europe",
            "Europe"
           ],
           "xaxis": "x",
           "y": [
            2375,
            420.08,
            744.45,
            2832.34,
            4048.63,
            438.42,
            3868.92,
            223.54,
            1952.1038,
            1047.66,
            1467.03,
            1921.11
           ],
           "yaxis": "y"
          }
         ],
         "name": "2001"
        },
        {
         "data": [
          {
           "hovertemplate": "<b>%{hovertext}</b><br><br>years=2008<br>geographical_region=%{x}<br>average_salary=%{marker.size}<br>median_salary=%{marker.color}<extra></extra>",
           "hovertext": [
            "South America",
            "Africa",
            "Asia",
            "Central America",
            "Caribbean",
            "South America",
            "Asia"
           ],
           "ids": [
            "South America",
            "Africa",
            "Asia",
            "Central America",
            "Caribbean",
            "South America",
            "Asia"
           ],
           "legendgroup": "",
           "marker": {
            "color": [
             1890.4,
             567.21,
             2309.7,
             1222.65,
             1483,
             122.18,
             959.78
            ],
            "coloraxis": "coloraxis",
            "size": [
             2090.56,
             651,
             2526.12,
             1335.88,
             1683,
             133.57,
             1069.47
            ],
            "sizemode": "area",
            "sizeref": 3.733190082644628,
            "symbol": "circle"
           },
           "mode": "markers",
           "name": "",
           "orientation": "v",
           "showlegend": false,
           "type": "scatter",
           "x": [
            "South America",
            "Africa",
            "Asia",
            "Central America",
            "Caribbean",
            "South America",
            "Asia"
           ],
           "xaxis": "x",
           "y": [
            2090.56,
            651,
            2526.12,
            1335.88,
            1683,
            133.57,
            1069.47
           ],
           "yaxis": "y"
          }
         ],
         "name": "2008"
        },
        {
         "data": [
          {
           "hovertemplate": "<b>%{hovertext}</b><br><br>years=2007<br>geographical_region=%{x}<br>average_salary=%{marker.size}<br>median_salary=%{marker.color}<extra></extra>",
           "hovertext": [
            "Africa",
            "Africa",
            "Africa",
            "Asia",
            "North America"
           ],
           "ids": [
            "Africa",
            "Africa",
            "Africa",
            "Asia",
            "North America"
           ],
           "legendgroup": "",
           "marker": {
            "color": [
             170.39,
             863.29,
             1634.24,
             551.13,
             2380
            ],
            "coloraxis": "coloraxis",
            "size": [
             191.74,
             991.43,
             1896.89,
             608.2,
             2710
            ],
            "sizemode": "area",
            "sizeref": 3.733190082644628,
            "symbol": "circle"
           },
           "mode": "markers",
           "name": "",
           "orientation": "v",
           "showlegend": false,
           "type": "scatter",
           "x": [
            "Africa",
            "Africa",
            "Africa",
            "Asia",
            "North America"
           ],
           "xaxis": "x",
           "y": [
            191.74,
            991.43,
            1896.89,
            608.2,
            2710
           ],
           "yaxis": "y"
          }
         ],
         "name": "2007"
        },
        {
         "data": [
          {
           "hovertemplate": "<b>%{hovertext}</b><br><br>years=2018<br>geographical_region=%{x}<br>average_salary=%{marker.size}<br>median_salary=%{marker.color}<extra></extra>",
           "hovertext": [
            "Oceania",
            "Africa",
            "Caribbean",
            "Europe",
            "Asia",
            "Europe",
            "Europe",
            "Europe",
            "Asia",
            "South America"
           ],
           "ids": [
            "Oceania",
            "Africa",
            "Caribbean",
            "Europe",
            "Asia",
            "Europe",
            "Europe",
            "Europe",
            "Asia",
            "South America"
           ],
           "legendgroup": "",
           "marker": {
            "color": [
             1270,
             696.71,
             444.95,
             3021.14,
             201.87,
             4767.44,
             4439.75,
             530.73,
             3324.25,
             773.64
            ],
            "coloraxis": "coloraxis",
            "size": [
             1400,
             817.87,
             506.2,
             3399.58,
             219.92,
             5211.42,
             4904.86,
             622.8,
             3896.46,
             862.2
            ],
            "sizemode": "area",
            "sizeref": 3.733190082644628,
            "symbol": "circle"
           },
           "mode": "markers",
           "name": "",
           "orientation": "v",
           "showlegend": false,
           "type": "scatter",
           "x": [
            "Oceania",
            "Africa",
            "Caribbean",
            "Europe",
            "Asia",
            "Europe",
            "Europe",
            "Europe",
            "Asia",
            "South America"
           ],
           "xaxis": "x",
           "y": [
            1400,
            817.87,
            506.2,
            3399.58,
            219.92,
            5211.42,
            4904.86,
            622.8,
            3896.46,
            862.2
           ],
           "yaxis": "y"
          }
         ],
         "name": "2018"
        },
        {
         "data": [
          {
           "hovertemplate": "<b>%{hovertext}</b><br><br>years=2000<br>geographical_region=%{x}<br>average_salary=%{marker.size}<br>median_salary=%{marker.color}<extra></extra>",
           "hovertext": [
            "Asia",
            "Asia",
            "Oceania"
           ],
           "ids": [
            "Asia",
            "Asia",
            "Oceania"
           ],
           "legendgroup": "",
           "marker": {
            "color": [
             932.63,
             245.34,
             668.09
            ],
            "coloraxis": "coloraxis",
            "size": [
             1070.97,
             284.9,
             778.72
            ],
            "sizemode": "area",
            "sizeref": 3.733190082644628,
            "symbol": "circle"
           },
           "mode": "markers",
           "name": "",
           "orientation": "v",
           "showlegend": false,
           "type": "scatter",
           "x": [
            "Asia",
            "Asia",
            "Oceania"
           ],
           "xaxis": "x",
           "y": [
            1070.97,
            284.9,
            778.72
           ],
           "yaxis": "y"
          }
         ],
         "name": "2000"
        }
       ],
       "layout": {
        "coloraxis": {
         "colorbar": {
          "title": {
           "text": "median_salary"
          }
         },
         "colorscale": [
          [
           0,
           "#0d0887"
          ],
          [
           0.1111111111111111,
           "#46039f"
          ],
          [
           0.2222222222222222,
           "#7201a8"
          ],
          [
           0.3333333333333333,
           "#9c179e"
          ],
          [
           0.4444444444444444,
           "#bd3786"
          ],
          [
           0.5555555555555556,
           "#d8576b"
          ],
          [
           0.6666666666666666,
           "#ed7953"
          ],
          [
           0.7777777777777778,
           "#fb9f3a"
          ],
          [
           0.8888888888888888,
           "#fdca26"
          ],
          [
           1,
           "#f0f921"
          ]
         ]
        },
        "legend": {
         "itemsizing": "constant",
         "tracegroupgap": 0
        },
        "margin": {
         "t": 60
        },
        "sliders": [
         {
          "active": 0,
          "currentvalue": {
           "prefix": "years="
          },
          "len": 0.9,
          "pad": {
           "b": 10,
           "t": 60
          },
          "steps": [
           {
            "args": [
             [
              "2014"
             ],
             {
              "frame": {
               "duration": 0,
               "redraw": false
              },
              "fromcurrent": true,
              "mode": "immediate",
              "transition": {
               "duration": 0,
               "easing": "linear"
              }
             }
            ],
            "label": "2014",
            "method": "animate"
           },
           {
            "args": [
             [
              "2020"
             ],
             {
              "frame": {
               "duration": 0,
               "redraw": false
              },
              "fromcurrent": true,
              "mode": "immediate",
              "transition": {
               "duration": 0,
               "easing": "linear"
              }
             }
            ],
            "label": "2020",
            "method": "animate"
           },
           {
            "args": [
             [
              "2003"
             ],
             {
              "frame": {
               "duration": 0,
               "redraw": false
              },
              "fromcurrent": true,
              "mode": "immediate",
              "transition": {
               "duration": 0,
               "easing": "linear"
              }
             }
            ],
            "label": "2003",
            "method": "animate"
           },
           {
            "args": [
             [
              "2004"
             ],
             {
              "frame": {
               "duration": 0,
               "redraw": false
              },
              "fromcurrent": true,
              "mode": "immediate",
              "transition": {
               "duration": 0,
               "easing": "linear"
              }
             }
            ],
            "label": "2004",
            "method": "animate"
           },
           {
            "args": [
             [
              "2013"
             ],
             {
              "frame": {
               "duration": 0,
               "redraw": false
              },
              "fromcurrent": true,
              "mode": "immediate",
              "transition": {
               "duration": 0,
               "easing": "linear"
              }
             }
            ],
            "label": "2013",
            "method": "animate"
           },
           {
            "args": [
             [
              "2011"
             ],
             {
              "frame": {
               "duration": 0,
               "redraw": false
              },
              "fromcurrent": true,
              "mode": "immediate",
              "transition": {
               "duration": 0,
               "easing": "linear"
              }
             }
            ],
            "label": "2011",
            "method": "animate"
           },
           {
            "args": [
             [
              "2019"
             ],
             {
              "frame": {
               "duration": 0,
               "redraw": false
              },
              "fromcurrent": true,
              "mode": "immediate",
              "transition": {
               "duration": 0,
               "easing": "linear"
              }
             }
            ],
            "label": "2019",
            "method": "animate"
           },
           {
            "args": [
             [
              "2021"
             ],
             {
              "frame": {
               "duration": 0,
               "redraw": false
              },
              "fromcurrent": true,
              "mode": "immediate",
              "transition": {
               "duration": 0,
               "easing": "linear"
              }
             }
            ],
            "label": "2021",
            "method": "animate"
           },
           {
            "args": [
             [
              "2015"
             ],
             {
              "frame": {
               "duration": 0,
               "redraw": false
              },
              "fromcurrent": true,
              "mode": "immediate",
              "transition": {
               "duration": 0,
               "easing": "linear"
              }
             }
            ],
            "label": "2015",
            "method": "animate"
           },
           {
            "args": [
             [
              "2010"
             ],
             {
              "frame": {
               "duration": 0,
               "redraw": false
              },
              "fromcurrent": true,
              "mode": "immediate",
              "transition": {
               "duration": 0,
               "easing": "linear"
              }
             }
            ],
            "label": "2010",
            "method": "animate"
           },
           {
            "args": [
             [
              "2016"
             ],
             {
              "frame": {
               "duration": 0,
               "redraw": false
              },
              "fromcurrent": true,
              "mode": "immediate",
              "transition": {
               "duration": 0,
               "easing": "linear"
              }
             }
            ],
            "label": "2016",
            "method": "animate"
           },
           {
            "args": [
             [
              "2012"
             ],
             {
              "frame": {
               "duration": 0,
               "redraw": false
              },
              "fromcurrent": true,
              "mode": "immediate",
              "transition": {
               "duration": 0,
               "easing": "linear"
              }
             }
            ],
            "label": "2012",
            "method": "animate"
           },
           {
            "args": [
             [
              "2002"
             ],
             {
              "frame": {
               "duration": 0,
               "redraw": false
              },
              "fromcurrent": true,
              "mode": "immediate",
              "transition": {
               "duration": 0,
               "easing": "linear"
              }
             }
            ],
            "label": "2002",
            "method": "animate"
           },
           {
            "args": [
             [
              "2017"
             ],
             {
              "frame": {
               "duration": 0,
               "redraw": false
              },
              "fromcurrent": true,
              "mode": "immediate",
              "transition": {
               "duration": 0,
               "easing": "linear"
              }
             }
            ],
            "label": "2017",
            "method": "animate"
           },
           {
            "args": [
             [
              "2005"
             ],
             {
              "frame": {
               "duration": 0,
               "redraw": false
              },
              "fromcurrent": true,
              "mode": "immediate",
              "transition": {
               "duration": 0,
               "easing": "linear"
              }
             }
            ],
            "label": "2005",
            "method": "animate"
           },
           {
            "args": [
             [
              "2022"
             ],
             {
              "frame": {
               "duration": 0,
               "redraw": false
              },
              "fromcurrent": true,
              "mode": "immediate",
              "transition": {
               "duration": 0,
               "easing": "linear"
              }
             }
            ],
            "label": "2022",
            "method": "animate"
           },
           {
            "args": [
             [
              "2009"
             ],
             {
              "frame": {
               "duration": 0,
               "redraw": false
              },
              "fromcurrent": true,
              "mode": "immediate",
              "transition": {
               "duration": 0,
               "easing": "linear"
              }
             }
            ],
            "label": "2009",
            "method": "animate"
           },
           {
            "args": [
             [
              "2006"
             ],
             {
              "frame": {
               "duration": 0,
               "redraw": false
              },
              "fromcurrent": true,
              "mode": "immediate",
              "transition": {
               "duration": 0,
               "easing": "linear"
              }
             }
            ],
            "label": "2006",
            "method": "animate"
           },
           {
            "args": [
             [
              "2001"
             ],
             {
              "frame": {
               "duration": 0,
               "redraw": false
              },
              "fromcurrent": true,
              "mode": "immediate",
              "transition": {
               "duration": 0,
               "easing": "linear"
              }
             }
            ],
            "label": "2001",
            "method": "animate"
           },
           {
            "args": [
             [
              "2008"
             ],
             {
              "frame": {
               "duration": 0,
               "redraw": false
              },
              "fromcurrent": true,
              "mode": "immediate",
              "transition": {
               "duration": 0,
               "easing": "linear"
              }
             }
            ],
            "label": "2008",
            "method": "animate"
           },
           {
            "args": [
             [
              "2007"
             ],
             {
              "frame": {
               "duration": 0,
               "redraw": false
              },
              "fromcurrent": true,
              "mode": "immediate",
              "transition": {
               "duration": 0,
               "easing": "linear"
              }
             }
            ],
            "label": "2007",
            "method": "animate"
           },
           {
            "args": [
             [
              "2018"
             ],
             {
              "frame": {
               "duration": 0,
               "redraw": false
              },
              "fromcurrent": true,
              "mode": "immediate",
              "transition": {
               "duration": 0,
               "easing": "linear"
              }
             }
            ],
            "label": "2018",
            "method": "animate"
           },
           {
            "args": [
             [
              "2000"
             ],
             {
              "frame": {
               "duration": 0,
               "redraw": false
              },
              "fromcurrent": true,
              "mode": "immediate",
              "transition": {
               "duration": 0,
               "easing": "linear"
              }
             }
            ],
            "label": "2000",
            "method": "animate"
           }
          ],
          "x": 0.1,
          "xanchor": "left",
          "y": 0,
          "yanchor": "top"
         }
        ],
        "template": {
         "data": {
          "bar": [
           {
            "error_x": {
             "color": "#2a3f5f"
            },
            "error_y": {
             "color": "#2a3f5f"
            },
            "marker": {
             "line": {
              "color": "#E5ECF6",
              "width": 0.5
             },
             "pattern": {
              "fillmode": "overlay",
              "size": 10,
              "solidity": 0.2
             }
            },
            "type": "bar"
           }
          ],
          "barpolar": [
           {
            "marker": {
             "line": {
              "color": "#E5ECF6",
              "width": 0.5
             },
             "pattern": {
              "fillmode": "overlay",
              "size": 10,
              "solidity": 0.2
             }
            },
            "type": "barpolar"
           }
          ],
          "carpet": [
           {
            "aaxis": {
             "endlinecolor": "#2a3f5f",
             "gridcolor": "white",
             "linecolor": "white",
             "minorgridcolor": "white",
             "startlinecolor": "#2a3f5f"
            },
            "baxis": {
             "endlinecolor": "#2a3f5f",
             "gridcolor": "white",
             "linecolor": "white",
             "minorgridcolor": "white",
             "startlinecolor": "#2a3f5f"
            },
            "type": "carpet"
           }
          ],
          "choropleth": [
           {
            "colorbar": {
             "outlinewidth": 0,
             "ticks": ""
            },
            "type": "choropleth"
           }
          ],
          "contour": [
           {
            "colorbar": {
             "outlinewidth": 0,
             "ticks": ""
            },
            "colorscale": [
             [
              0,
              "#0d0887"
             ],
             [
              0.1111111111111111,
              "#46039f"
             ],
             [
              0.2222222222222222,
              "#7201a8"
             ],
             [
              0.3333333333333333,
              "#9c179e"
             ],
             [
              0.4444444444444444,
              "#bd3786"
             ],
             [
              0.5555555555555556,
              "#d8576b"
             ],
             [
              0.6666666666666666,
              "#ed7953"
             ],
             [
              0.7777777777777778,
              "#fb9f3a"
             ],
             [
              0.8888888888888888,
              "#fdca26"
             ],
             [
              1,
              "#f0f921"
             ]
            ],
            "type": "contour"
           }
          ],
          "contourcarpet": [
           {
            "colorbar": {
             "outlinewidth": 0,
             "ticks": ""
            },
            "type": "contourcarpet"
           }
          ],
          "heatmap": [
           {
            "colorbar": {
             "outlinewidth": 0,
             "ticks": ""
            },
            "colorscale": [
             [
              0,
              "#0d0887"
             ],
             [
              0.1111111111111111,
              "#46039f"
             ],
             [
              0.2222222222222222,
              "#7201a8"
             ],
             [
              0.3333333333333333,
              "#9c179e"
             ],
             [
              0.4444444444444444,
              "#bd3786"
             ],
             [
              0.5555555555555556,
              "#d8576b"
             ],
             [
              0.6666666666666666,
              "#ed7953"
             ],
             [
              0.7777777777777778,
              "#fb9f3a"
             ],
             [
              0.8888888888888888,
              "#fdca26"
             ],
             [
              1,
              "#f0f921"
             ]
            ],
            "type": "heatmap"
           }
          ],
          "heatmapgl": [
           {
            "colorbar": {
             "outlinewidth": 0,
             "ticks": ""
            },
            "colorscale": [
             [
              0,
              "#0d0887"
             ],
             [
              0.1111111111111111,
              "#46039f"
             ],
             [
              0.2222222222222222,
              "#7201a8"
             ],
             [
              0.3333333333333333,
              "#9c179e"
             ],
             [
              0.4444444444444444,
              "#bd3786"
             ],
             [
              0.5555555555555556,
              "#d8576b"
             ],
             [
              0.6666666666666666,
              "#ed7953"
             ],
             [
              0.7777777777777778,
              "#fb9f3a"
             ],
             [
              0.8888888888888888,
              "#fdca26"
             ],
             [
              1,
              "#f0f921"
             ]
            ],
            "type": "heatmapgl"
           }
          ],
          "histogram": [
           {
            "marker": {
             "pattern": {
              "fillmode": "overlay",
              "size": 10,
              "solidity": 0.2
             }
            },
            "type": "histogram"
           }
          ],
          "histogram2d": [
           {
            "colorbar": {
             "outlinewidth": 0,
             "ticks": ""
            },
            "colorscale": [
             [
              0,
              "#0d0887"
             ],
             [
              0.1111111111111111,
              "#46039f"
             ],
             [
              0.2222222222222222,
              "#7201a8"
             ],
             [
              0.3333333333333333,
              "#9c179e"
             ],
             [
              0.4444444444444444,
              "#bd3786"
             ],
             [
              0.5555555555555556,
              "#d8576b"
             ],
             [
              0.6666666666666666,
              "#ed7953"
             ],
             [
              0.7777777777777778,
              "#fb9f3a"
             ],
             [
              0.8888888888888888,
              "#fdca26"
             ],
             [
              1,
              "#f0f921"
             ]
            ],
            "type": "histogram2d"
           }
          ],
          "histogram2dcontour": [
           {
            "colorbar": {
             "outlinewidth": 0,
             "ticks": ""
            },
            "colorscale": [
             [
              0,
              "#0d0887"
             ],
             [
              0.1111111111111111,
              "#46039f"
             ],
             [
              0.2222222222222222,
              "#7201a8"
             ],
             [
              0.3333333333333333,
              "#9c179e"
             ],
             [
              0.4444444444444444,
              "#bd3786"
             ],
             [
              0.5555555555555556,
              "#d8576b"
             ],
             [
              0.6666666666666666,
              "#ed7953"
             ],
             [
              0.7777777777777778,
              "#fb9f3a"
             ],
             [
              0.8888888888888888,
              "#fdca26"
             ],
             [
              1,
              "#f0f921"
             ]
            ],
            "type": "histogram2dcontour"
           }
          ],
          "mesh3d": [
           {
            "colorbar": {
             "outlinewidth": 0,
             "ticks": ""
            },
            "type": "mesh3d"
           }
          ],
          "parcoords": [
           {
            "line": {
             "colorbar": {
              "outlinewidth": 0,
              "ticks": ""
             }
            },
            "type": "parcoords"
           }
          ],
          "pie": [
           {
            "automargin": true,
            "type": "pie"
           }
          ],
          "scatter": [
           {
            "fillpattern": {
             "fillmode": "overlay",
             "size": 10,
             "solidity": 0.2
            },
            "type": "scatter"
           }
          ],
          "scatter3d": [
           {
            "line": {
             "colorbar": {
              "outlinewidth": 0,
              "ticks": ""
             }
            },
            "marker": {
             "colorbar": {
              "outlinewidth": 0,
              "ticks": ""
             }
            },
            "type": "scatter3d"
           }
          ],
          "scattercarpet": [
           {
            "marker": {
             "colorbar": {
              "outlinewidth": 0,
              "ticks": ""
             }
            },
            "type": "scattercarpet"
           }
          ],
          "scattergeo": [
           {
            "marker": {
             "colorbar": {
              "outlinewidth": 0,
              "ticks": ""
             }
            },
            "type": "scattergeo"
           }
          ],
          "scattergl": [
           {
            "marker": {
             "colorbar": {
              "outlinewidth": 0,
              "ticks": ""
             }
            },
            "type": "scattergl"
           }
          ],
          "scattermapbox": [
           {
            "marker": {
             "colorbar": {
              "outlinewidth": 0,
              "ticks": ""
             }
            },
            "type": "scattermapbox"
           }
          ],
          "scatterpolar": [
           {
            "marker": {
             "colorbar": {
              "outlinewidth": 0,
              "ticks": ""
             }
            },
            "type": "scatterpolar"
           }
          ],
          "scatterpolargl": [
           {
            "marker": {
             "colorbar": {
              "outlinewidth": 0,
              "ticks": ""
             }
            },
            "type": "scatterpolargl"
           }
          ],
          "scatterternary": [
           {
            "marker": {
             "colorbar": {
              "outlinewidth": 0,
              "ticks": ""
             }
            },
            "type": "scatterternary"
           }
          ],
          "surface": [
           {
            "colorbar": {
             "outlinewidth": 0,
             "ticks": ""
            },
            "colorscale": [
             [
              0,
              "#0d0887"
             ],
             [
              0.1111111111111111,
              "#46039f"
             ],
             [
              0.2222222222222222,
              "#7201a8"
             ],
             [
              0.3333333333333333,
              "#9c179e"
             ],
             [
              0.4444444444444444,
              "#bd3786"
             ],
             [
              0.5555555555555556,
              "#d8576b"
             ],
             [
              0.6666666666666666,
              "#ed7953"
             ],
             [
              0.7777777777777778,
              "#fb9f3a"
             ],
             [
              0.8888888888888888,
              "#fdca26"
             ],
             [
              1,
              "#f0f921"
             ]
            ],
            "type": "surface"
           }
          ],
          "table": [
           {
            "cells": {
             "fill": {
              "color": "#EBF0F8"
             },
             "line": {
              "color": "white"
             }
            },
            "header": {
             "fill": {
              "color": "#C8D4E3"
             },
             "line": {
              "color": "white"
             }
            },
            "type": "table"
           }
          ]
         },
         "layout": {
          "annotationdefaults": {
           "arrowcolor": "#2a3f5f",
           "arrowhead": 0,
           "arrowwidth": 1
          },
          "autotypenumbers": "strict",
          "coloraxis": {
           "colorbar": {
            "outlinewidth": 0,
            "ticks": ""
           }
          },
          "colorscale": {
           "diverging": [
            [
             0,
             "#8e0152"
            ],
            [
             0.1,
             "#c51b7d"
            ],
            [
             0.2,
             "#de77ae"
            ],
            [
             0.3,
             "#f1b6da"
            ],
            [
             0.4,
             "#fde0ef"
            ],
            [
             0.5,
             "#f7f7f7"
            ],
            [
             0.6,
             "#e6f5d0"
            ],
            [
             0.7,
             "#b8e186"
            ],
            [
             0.8,
             "#7fbc41"
            ],
            [
             0.9,
             "#4d9221"
            ],
            [
             1,
             "#276419"
            ]
           ],
           "sequential": [
            [
             0,
             "#0d0887"
            ],
            [
             0.1111111111111111,
             "#46039f"
            ],
            [
             0.2222222222222222,
             "#7201a8"
            ],
            [
             0.3333333333333333,
             "#9c179e"
            ],
            [
             0.4444444444444444,
             "#bd3786"
            ],
            [
             0.5555555555555556,
             "#d8576b"
            ],
            [
             0.6666666666666666,
             "#ed7953"
            ],
            [
             0.7777777777777778,
             "#fb9f3a"
            ],
            [
             0.8888888888888888,
             "#fdca26"
            ],
            [
             1,
             "#f0f921"
            ]
           ],
           "sequentialminus": [
            [
             0,
             "#0d0887"
            ],
            [
             0.1111111111111111,
             "#46039f"
            ],
            [
             0.2222222222222222,
             "#7201a8"
            ],
            [
             0.3333333333333333,
             "#9c179e"
            ],
            [
             0.4444444444444444,
             "#bd3786"
            ],
            [
             0.5555555555555556,
             "#d8576b"
            ],
            [
             0.6666666666666666,
             "#ed7953"
            ],
            [
             0.7777777777777778,
             "#fb9f3a"
            ],
            [
             0.8888888888888888,
             "#fdca26"
            ],
            [
             1,
             "#f0f921"
            ]
           ]
          },
          "colorway": [
           "#636efa",
           "#EF553B",
           "#00cc96",
           "#ab63fa",
           "#FFA15A",
           "#19d3f3",
           "#FF6692",
           "#B6E880",
           "#FF97FF",
           "#FECB52"
          ],
          "font": {
           "color": "#2a3f5f"
          },
          "geo": {
           "bgcolor": "white",
           "lakecolor": "white",
           "landcolor": "#E5ECF6",
           "showlakes": true,
           "showland": true,
           "subunitcolor": "white"
          },
          "hoverlabel": {
           "align": "left"
          },
          "hovermode": "closest",
          "mapbox": {
           "style": "light"
          },
          "paper_bgcolor": "white",
          "plot_bgcolor": "#E5ECF6",
          "polar": {
           "angularaxis": {
            "gridcolor": "white",
            "linecolor": "white",
            "ticks": ""
           },
           "bgcolor": "#E5ECF6",
           "radialaxis": {
            "gridcolor": "white",
            "linecolor": "white",
            "ticks": ""
           }
          },
          "scene": {
           "xaxis": {
            "backgroundcolor": "#E5ECF6",
            "gridcolor": "white",
            "gridwidth": 2,
            "linecolor": "white",
            "showbackground": true,
            "ticks": "",
            "zerolinecolor": "white"
           },
           "yaxis": {
            "backgroundcolor": "#E5ECF6",
            "gridcolor": "white",
            "gridwidth": 2,
            "linecolor": "white",
            "showbackground": true,
            "ticks": "",
            "zerolinecolor": "white"
           },
           "zaxis": {
            "backgroundcolor": "#E5ECF6",
            "gridcolor": "white",
            "gridwidth": 2,
            "linecolor": "white",
            "showbackground": true,
            "ticks": "",
            "zerolinecolor": "white"
           }
          },
          "shapedefaults": {
           "line": {
            "color": "#2a3f5f"
           }
          },
          "ternary": {
           "aaxis": {
            "gridcolor": "white",
            "linecolor": "white",
            "ticks": ""
           },
           "baxis": {
            "gridcolor": "white",
            "linecolor": "white",
            "ticks": ""
           },
           "bgcolor": "#E5ECF6",
           "caxis": {
            "gridcolor": "white",
            "linecolor": "white",
            "ticks": ""
           }
          },
          "title": {
           "x": 0.05
          },
          "xaxis": {
           "automargin": true,
           "gridcolor": "white",
           "linecolor": "white",
           "ticks": "",
           "title": {
            "standoff": 15
           },
           "zerolinecolor": "white",
           "zerolinewidth": 2
          },
          "yaxis": {
           "automargin": true,
           "gridcolor": "white",
           "linecolor": "white",
           "ticks": "",
           "title": {
            "standoff": 15
           },
           "zerolinecolor": "white",
           "zerolinewidth": 2
          }
         }
        },
        "updatemenus": [
         {
          "buttons": [
           {
            "args": [
             null,
             {
              "frame": {
               "duration": 500,
               "redraw": false
              },
              "fromcurrent": true,
              "mode": "immediate",
              "transition": {
               "duration": 500,
               "easing": "linear"
              }
             }
            ],
            "label": "&#9654;",
            "method": "animate"
           },
           {
            "args": [
             [
              null
             ],
             {
              "frame": {
               "duration": 0,
               "redraw": false
              },
              "fromcurrent": true,
              "mode": "immediate",
              "transition": {
               "duration": 0,
               "easing": "linear"
              }
             }
            ],
            "label": "&#9724;",
            "method": "animate"
           }
          ],
          "direction": "left",
          "pad": {
           "r": 10,
           "t": 70
          },
          "showactive": false,
          "type": "buttons",
          "x": 0.1,
          "xanchor": "right",
          "y": 0,
          "yanchor": "top"
         }
        ],
        "xaxis": {
         "anchor": "y",
         "domain": [
          0,
          1
         ],
         "range": [
          2,
          5
         ],
         "title": {
          "text": "geographical_region"
         },
         "type": "log"
        },
        "yaxis": {
         "anchor": "x",
         "domain": [
          0,
          1
         ],
         "range": [
          25,
          90
         ],
         "title": {
          "text": "average_salary"
         }
        }
       }
      }
     },
     "metadata": {},
     "output_type": "display_data"
    }
   ],
   "source": [
    "px.scatter(world_salary, x=\"geographical_region\", y=\"average_salary\", animation_frame=\"years\", animation_group=\"geographical_region\",\n",
    "           size=\"average_salary\", color=\"median_salary\", hover_name=\"geographical_region\",\n",
    "           log_x=True, size_max=55, range_x=[100,100000], range_y=[25,90])"
   ]
  }
 ],
 "metadata": {
  "kernelspec": {
   "display_name": "venv",
   "language": "python",
   "name": "python3"
  },
  "language_info": {
   "codemirror_mode": {
    "name": "ipython",
    "version": 3
   },
   "file_extension": ".py",
   "mimetype": "text/x-python",
   "name": "python",
   "nbconvert_exporter": "python",
   "pygments_lexer": "ipython3",
   "version": "3.12.0"
  }
 },
 "nbformat": 4,
 "nbformat_minor": 2
}
